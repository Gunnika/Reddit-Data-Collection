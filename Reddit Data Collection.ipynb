{
 "cells": [
  {
   "cell_type": "code",
   "execution_count": 1,
   "metadata": {},
   "outputs": [],
   "source": [
    "import praw\n",
    "import pandas as pd\n",
    "import datetime as dt\n",
    "from collections import defaultdict "
   ]
  },
  {
   "cell_type": "code",
   "execution_count": 2,
   "metadata": {},
   "outputs": [
    {
     "name": "stdout",
     "output_type": "stream",
     "text": [
      "False\n"
     ]
    }
   ],
   "source": [
    "# client_id='PERSONAL_USE_SCRIPT_14_CHARS', \n",
    "#                      client_secret='SECRET_KEY_27_CHARS ', \n",
    "#                      user_agent='YOUR_APP_NAME'\n",
    "reddit = praw.Reddit(client_id='R30fcxAZLJ7Wyw',\n",
    "                     client_secret='8Zf87krHYa_zXRXPWEF8hK2Twfs',\n",
    "                     user_agent='project1',\n",
    "                     username = 'gbatra',\n",
    "                     password = \"HOLYMOLY1999\"\n",
    "                    )\n",
    "print(reddit.read_only)"
   ]
  },
  {
   "cell_type": "code",
   "execution_count": 3,
   "metadata": {},
   "outputs": [],
   "source": [
    "def get_date(created):\n",
    "    return dt.datetime.fromtimestamp(created)"
   ]
  },
  {
   "cell_type": "code",
   "execution_count": 4,
   "metadata": {},
   "outputs": [
    {
     "name": "stdout",
     "output_type": "stream",
     "text": [
      "### We are looking for additional moderators. If you believe you can help, apply [via modmail](https://www.reddit.com/message/compose?to=%2Fr%2Findia)\n",
      "\n",
      "###[r/India Rules](https://www.reddit.com/r/India/wiki/rules)\n",
      "\n",
      "###[PushBullet Notifications](https://www.pushbullet.com/channel?tag=redditindia)\n",
      "\n",
      "###[r/India Discord Server](https://discord.gg/6V29X7f)\n",
      "\n",
      "###[Scheduled threads](https://www.reddit.com/r/india/comments/b27sx9/scheduled_threads/)\n",
      "\n",
      "###[r/India twitter](https://twitter.com/redditindia)\n",
      "\n",
      "#Filters & Hot Topics:\n",
      "\n",
      "> **Enable**[All](http://www.reddit.com/r/india/#aa)[Non-Political](http://yy.reddit.com/r/india/#yy)[Politics](http://xx.reddit.com/r/india/#xx)[\\[R\\]eddiquette](http://zz.reddit.com/r/india/#zz)[AMA](https://am.reddit.com/r/india/search?q=flair%3AAMA&sort=new&restrict_sr=on/#am)[Scheduled](https://sd.reddit.com/r/india/search?q=flair%3AScheduled+-title%3ARandom&restrict_sr=on&sort=new&t=all/#sd)[Science & Tech.](http://bb.reddit.com/r/india/#bb)[Self Posts](http://ss.reddit.com/r/india/#ss)\n",
      "\n",
      "> **Disable**[Hide Politics and Policy](http://hp.reddit.com/r/india/#yy)[Hide AdBlocker Unfriendly](http://ab.reddit.com/r/india/#ab)  \n",
      "  \n",
      "\n",
      "\n",
      "#Welcome to \\/r/India\n",
      "1. [What is Reddit?](https://www.reddit.com/wiki/reddit_101)\n",
      "2. [Reddit India Wiki](http://www.reddit.com/r/india/wiki/index)\n",
      "3. [Follow us on Twitter - @RedditIndia](https://twitter.com/RedditIndia)\n",
      "4. [All India related sub-reddits](http://www.reddit.com/r/india/wiki/related_subreddits)\n",
      "\n",
      "#Requests\n",
      "1. Please see [this](http://www.reddit.com/r/india/wiki/requests) for further details.\n",
      "2. Do read the **[Reddiquette](http://www.reddit.com/help/reddiquette)** and refrain from personal/vindictive attacks while commenting.\n",
      "3. Please provide **[translations](http://www.reddit.com/r/india/comments/eu3nb/a_suggestion_for_rindia/c1ayhxr)** if comment in languages other than English.\n",
      "4. Please use spoiler tags where needed. `[](#s \"Modi\")` becomes [](#s \"PM\").\n",
      "\n",
      "#Community\n",
      "\n",
      "1. [Travel Information](http://www.reddit.com/r/india/wiki/travel_information)\n",
      "2. [State of the Week Threads](http://www.reddit.com/r/india/wiki/state_of_the_week)\n",
      "3. [IRC](http://webchat.freenode.net/?channels=##rindia)\n",
      "4. [Special mentions](http://www.reddit.com/r/india/wiki/contributors)\n",
      "5. [Useful Posts by Redditors](https://www.reddit.com/r/india/wiki/useful_posts)\n",
      "\n",
      "\n",
      ">####Avoid duplicates: Check /r/india/new\n"
     ]
    }
   ],
   "source": [
    "india_subreddit = reddit.subreddit('india')\n",
    "print(india_subreddit.description)"
   ]
  },
  {
   "cell_type": "code",
   "execution_count": 5,
   "metadata": {},
   "outputs": [],
   "source": [
    "# Each subreddit has five different ways of organizing the topics created by redditors: .hot, .new,\n",
    "# .controversial, .top, and .gilded. \n",
    "# You can also use .search(\"SEARCH_KEYWORDS\") to get only results matching an engine search."
   ]
  },
  {
   "cell_type": "code",
   "execution_count": 6,
   "metadata": {},
   "outputs": [],
   "source": [
    "# get 10 hot posts from the MachineLearning subreddit\n",
    "hot_posts = india_subreddit.hot(limit=10)"
   ]
  },
  {
   "cell_type": "code",
   "execution_count": 7,
   "metadata": {},
   "outputs": [],
   "source": [
    "# test = []\n",
    "# for post in hot_posts:\n",
    "#     print(\"Title: \"+ post.title)\n",
    "#     print(\"Score: \"+ str(post.score))\n",
    "#     print(\"ID: \"+ str(post.id))\n",
    "#     print(\"Subreddit: \"+ str(post.subreddit))\n",
    "#     print(\"URL: \"+ post.url)\n",
    "#     print(\"No. of comments: \"+ str(post.num_comments))\n",
    "#     print(\"Self Text: \"+ post.selftext)\n",
    "#     print(\"Post Created: \"+ str(post.created))\n",
    "#     test.append([post.title, post.score, post.id])\n",
    "#     print()\n",
    "# test"
   ]
  },
  {
   "cell_type": "code",
   "execution_count": 8,
   "metadata": {},
   "outputs": [],
   "source": [
    "# india_posts = defaultdict(list)\n",
    "# for post in hot_posts:\n",
    "#     india_posts['title'].append(post.title)\n",
    "#     india_posts['score'].append(post.score)\n",
    "#     india_posts['url'].append(post.url)\n",
    "#     india_posts['num_comments'].append(post.num_comments)\n",
    "#     india_posts['text'].append(post.selftext)\n",
    "#     india_posts['created'].append(post.created)\n",
    "#     #  a limit of None means that all MoreComments objects will be replaced until there are none left\n",
    "#     for comment in post.comments:\n",
    "#         india_posts['comments'].append(comment)\n",
    "\n",
    "# india_posts\n",
    "\n",
    "# This gave out an error ' ValueError: arrays must all be same length' when being converted to Dataframe"
   ]
  },
  {
   "cell_type": "code",
   "execution_count": null,
   "metadata": {},
   "outputs": [
    {
     "data": {
      "text/plain": [
       "defaultdict(list,\n",
       "            {'title': ['Coronavirus (COVID-19) Megathread - News and Updates - 4',\n",
       "              'Announcing r/IndiaMeme, our own sub for memes that are related to India. Welcoming all the memers to submit their memes and OC memes!',\n",
       "              '#OnThisDay in 1975, history was made when India’s first satellite - Aryabhata, was launched from Kapustin Yar in Russia.',\n",
       "              'Different stages of hair loss in perfect order. Mumbai local train memories.',\n",
       "              'All the 186 COVID-19 positive cases that were reported yesterday were asymptomatic, they didn’t know they had Coronavirus. This is more worrying: Delhi CM Arvind Kejriwal',\n",
       "              'Saudi scholar calls for expulsion of Hindu supremacists from the Gulf',\n",
       "              \"Tejasvi Surya deletes tweet on Arab women that read 'they never had orgasm in the last few hundred years'\",\n",
       "              'Rajasthan Congress MLA took back the ration from a woman after she told him that she supports PM Modi.',\n",
       "              'TIL my In-Laws have stopped taking milk and my Parents vegetables and other groceries items from their usual guys after watching News.',\n",
       "              \"India's cases jumped from 14,352 on Apr 17 to 16,365 on Apr 18, an alarming 14% increase in 24 Hours. This is despite a nationwide lockdown, how long will ICMR keep denying Community Transmission?\"],\n",
       "             'score': [114, 292, 2056, 2431, 569, 202, 96, 301, 116, 641],\n",
       "             'url': ['https://www.reddit.com/r/india/comments/g1zi21/coronavirus_covid19_megathread_news_and_updates_4/',\n",
       "              'https://www.reddit.com/r/india/comments/fzub9j/announcing_rindiameme_our_own_sub_for_memes_that/',\n",
       "              'https://i.redd.it/8guugveh2qt41.jpg',\n",
       "              'https://i.redd.it/ydbmwsa7jpt41.jpg',\n",
       "              'https://twitter.com/ANI/status/1251761810308554754?s=09',\n",
       "              'https://www.middleeastmonitor.com/20200417-saudi-scholar-calls-for-expulsion-of-hindu-supremacists-from-the-gulf/',\n",
       "              'https://www.ibtimes.co.in/tejasvi-surya-deletes-tweet-arab-women-that-read-they-never-had-orgasm-last-few-hundred-years-817940',\n",
       "              'https://twitter.com/IndiaToday/status/1251739273608323072',\n",
       "              'https://www.reddit.com/r/india/comments/g46sqm/til_my_inlaws_have_stopped_taking_milk_and_my/',\n",
       "              'https://i.redd.it/2mbd2uqbxot41.jpg'],\n",
       "             'num_comments': [1441, 87, 63, 75, 85, 48, 15, 15, 40, 211],\n",
       "             'text': [\"###[Covid-19 Fundraisers & Donation Links](https://amnesty.org.in/support-indias-most-vulnerable-fight-covid-19-a-list-of-fundraisers-you-can-donate-to/) via Amnesty International\\n* [This link covers](https://amnesty.org.in/support-indias-most-vulnerable-fight-covid-19-a-list-of-fundraisers-you-can-donate-to/) Migrant Workers Day-Labourers, Other Vulnerable Groups, Urban Poor, Transgender Community, Waste-pickers and Sanitation Workers, Healthcare Workers and Doctors, Older Persons & Children and Animal Care \\n\\n------------------------------------------------------------------------------------------------------\\n\\n#####Indian Goverment\\n* [Official Twitter Collection of Indian Govt. Communications](https://twitter.com/i/events/1240662046280048646)\\n* [State and District Wise Details of Cases in India](https://www.mohfw.gov.in/pdf/DistrictWiseList324.pdf)\\n* All India Helplines: 1075 (Toll Free) | 1930 (Toll Free) | 1944 (Northeast India Only) | +911123978046 | Email ID: ncov2019@gov.in \\n* [State Helpline Numbers](https://www.mohfw.gov.in/pdf/coronvavirushelplinenumber.pdf)\\n* [Test Centers List](https://covid.icmr.org.in/index.php/testing-facilities)\\n\\n#####State Specific Threads via Reddit community\\n* [Andaman &amp; Nicobar, Lakshadweep,  Puducherry, Dadra &amp; Nagar Haveli, Daman &amp; Diu](https://www.reddit.com/r/CoronaIndia/comments/fqmry7/coronavirus_covid19_megathread_news_and_updates/) via u/TheDosaMan\\n* [Bihar](https://www.reddit.com/r/india/comments/ftky3g/covid19_every_updates_from_bihar/) via u/FilmmakerFarhan\\n* [Delhi](https://www.reddit.com/r/delhi/comments/g4azdi/covid19_updates_for_delhi_1/)\\n* [Gujarat](https://www.reddit.com/r/india/comments/fw07cd/covid19_gujarat_updates) via u/helvetikka\\n* [Karnataka](https://www.reddit.com/r/india/comments/fpv4xk/karnataka_covid19_updates/) via u/TheClassicGallery\\n* [Kerala](https://www.reddit.com/r/Kerala/comments/fgc8m6/coronavirus_covid19_megathread_news_and_updates/) via u/nithinvnath\\n* [Madhya Pradesh](https://www.reddit.com/r/india/comments/fpt2jw/mp_covid19_megathread/) via u/maardon_bhenji\\n* [Maharashtra](https://www.reddit.com/r/india/comments/fq2vqj/covid19_updates_for_maharashtra/) via u/hrishidev\\n* [Odisha](https://www.reddit.com/r/india/comments/frstw5/covid19all_updates_for_odisha) via u/aviakki1\\n* [Nagaland](https://www.reddit.com/user/-ImSoDone-/comments/fqpnov/covid19_updates_nagaland/) via u/-ImSoDone-\\n* [Punjab](https://www.reddit.com/r/india/comments/fsbwuj/punjab_covid_updates_thread/) via u/TheAltChemist\\n* [Rajasthan](https://www.reddit.com/r/pinkcity/comments/fps590/covid19_updates_for_rajasthan/) via /u/isaacseaman\\n* [Tamil Nadu](https://www.reddit.com/r/Chennai/comments/fr62oj/covid19_daily_news_updates/) via u/ughalright\\n* [Telangana](https://www.reddit.com/r/india/comments/fqn8jf/covid19_all_updates_in_telangana/) via u/lifehacker25\\n* [Uttarakhand](https://www.reddit.com/r/india/comments/fs95z1/covid19_updates_uttarakhand_edition/) via u/leopard_dopy\\n* [West Bengal](https://www.reddit.com/r/kolkata/comments/fi5hqd/covid19_updates/) via /u/ppatra\\n* [*More States are being Added*]\\n\\n#####Coronavirus Trackers, News, Updates\\n\\n* [Case Numbers via Indian Govt.](https://www.mohfw.gov.in/)\\n* [Case Numbers and Map via NDTV](https://www.ndtv.com/coronavirus/india-covid-19-outbreak-map)\\n* [Covid19India.org](https://www.covid19india.org)\\n* r/Coronavirus\\n* r/worldnews\\n* r/COVID19Positive for Covid-19 Patients\\n\\n#####Useful Guides, Precautions, Helpful Tips, Self Assessment\\n* [Safety Tips](https://www.who.int/emergencies/diseases/novel-coronavirus-2019/advice-for-public)\\n* [Coronavirus condition overview](https://www.who.int/health-topics/coronavirus)\\n* [Coronavirus Q&amp;A](https://www.who.int/news-room/q-a-detail/q-a-coronaviruses)\\n* [How to Protect Yourself and Prepare for the Coronavirus](https://www.nytimes.com/article/prepare-for-coronavirus.html)\\n* [Myth Busters via WHO](https://www.who.int/emergencies/diseases/novel-coronavirus-2019/advice-for-public/myth-busters)\\n* [Self Assessment Tool for Covid19](https://coronavirus.heallify.com/)\\n\\n#####Coronavirus (Covid-19) Multi-Lingual Shareable Resources Wiki \\n* [Wiki Thread](https://www.reddit.com/r/india/comments/fo0xj9/coronavirus_covid19_multilingual_resources_wiki/)\\n\\n* [Assamese](https://1drv.ms/u/s!AoYOmN7lWek1gn1U2sNswTmrdyym?e=qtG6Hy) | [Bengali](https://1drv.ms/u/s!AoYOmN7lWek1gkqMhFrcLJNn_GXA?e=C4Org5) |\\n[English](https://1drv.ms/u/s!AoYOmN7lWek1gWSxZMTO6BKKKYGN?e=sgYupr) | [Gujarati](https://1drv.ms/u/s!AoYOmN7lWek1ght7ez9gamQZdNuN?e=doJZmj) | \\n[Hindi](https://1drv.ms/u/s!AoYOmN7lWek1gWNzzpIljrP9jQke?e=bu6Eog) | [Kannada](https://1drv.ms/u/s!AoYOmN7lWek1ggJi4cS2y1ZULZol?e=s43xHF) | \\n[Konkani](https://1drv.ms/u/s!AoYOmN7lWek1gmRJkbslNMDc-1s1?e=gpDqma) | [Malayalam](https://1drv.ms/u/s!AoYOmN7lWek1gmeU30HlPVT-0Cqo?e=dNhg3u) | \\n[Marathi](https://1drv.ms/u/s!AoYOmN7lWek1giu0e8l9SbT27Ac_?e=eeNuHi) | [Marwari](https://1drv.ms/u/s!AoYOmN7lWek1gXxP8R5CPzEt5zhp?e=HWuXnt) | \\n[Oriya](https://1drv.ms/u/s!AoYOmN7lWek1gwcrC-WB195OyuXd?e=ozTVA4) | [Punjabi](https://1drv.ms/u/s!AoYOmN7lWek1gjxTSvU761F9Hzou?e=9gjaqg) | \\n[Tamil](https://1drv.ms/u/s!AoYOmN7lWek1gglvLHFkHSsMZgTo?e=YhLNRo) | [Telegu](https://1drv.ms/f/s!AoYOmN7lWek1gkEvVG2WLij6Up78) | \\n[Urdu](https://1drv.ms/u/s!AoYOmN7lWek1gwwpU8N-i2_x9Z5n?e=8fUHqi)\\n\\n#####r/India Community\\n* [COVID-19 India tracker](https://www.covid19india.org/) via u/splitladoo\\n* [Crowdsourced handbook of India specific data and resources](https://covidindiasupport.com/main) via u/lilhuman0\\n* [Google Spreadsheet of Statewise infections](https://docs.google.com/spreadsheets/d/1uKqaxMd5gkghBKMmp_fbnLRFLdic_Kv-i_802f77Ih0/edit#gid=0) via /u/lord_blood_raven\\n\\n#####Precautions for prevention of Corona Virus\\n^Currently ^there ^is ^no ^vaccine ^available ^to ^protect ^against ^human ^corona ^virus ^but ^we ^can ^reduce ^the ^transmission ^of ^virus ^by ^taking ^following ^precautions:\\n\\n* Do\\n * Wash your hands regularly for 20 seconds, with soap and water or alcohol-based hand rub\\n * Cover your nose and mouth with a disposable tissue or flexed elbow when you cough or sneeze\\n * Avoid close contact (1 meter or 3 feet) with people who are unwell\\n * Stay home and self-isolate from others in the household if you feel unwell\\n* Don't\\n * Touch your eyes, nose, or mouth if your hands are not clean\\n\\n#####How to Quarantine Yourself via [New York Times](https://www.nytimes.com/2020/03/06/health/self-quarantine-coronavirus.html)\\n^If ^you’re ^returning ^from ^an ^area ^that’s ^had ^a ^coronavirus ^outbreak, ^or ^if ^you’ve ^been ^in ^close ^contact ^with ^someone ^who ^tests ^positive, ^you ^may ^be ^asked ^to ^isolate ^yourself ^at ^home ^for ^two ^weeks, ^the ^presumed ^incubation ^period ^for ^the ^coronavirus.\\n\\n^It’s ^not ^easy ^to ^lock ^yourself ^away ^from ^your ^family ^and ^friends. ^These ^are ^the ^basics.\\n\\n1. **ISOLATION**: If you are infected or have been exposed to the coronavirus, you must seclude yourself from your partner, your housemates, your children, your older aunt and even your pets. If you don’t have your own room, one should be designated for your exclusive use. No visitors unless it’s absolutely essential. Don’t take the bus, subway or even a taxi.\\n\\n2. **MASKS**: If you must be around other people — in your home, or in a car, because you’re on your way to see a doctor (and only after you’ve called first) — wear a mask. Everyone else should, too.\\n\\n3. **HYGIENE**: Cover your mouth and nose with a tissue to cough or sneeze, and discard it in a lined trash can. Immediately wash your hands with soap and water for at least 20 seconds. You can use sanitizer, but soap and water are preferred. Wash your hands frequently and avoid touching your eyes, nose and mouth, if you haven’t just washed them.\\n\\n4. **DISINFECTING**: Don’t share dishes, drinking glasses, eating utensils, towels or bedding. Wash these items after you use them. Use a household cleaner to wipe down countertops, tabletops, doorknobs, bathrooms fixtures, toilets, phones, keyboards, tablets and bedside tables. That also goes for any surfaces that may be contaminated by bodily fluids.\\n\\n5. **HOUSEHOLD MEMBERS**: When around the patient, wear a face mask, and add gloves if you’re touching anything that might carry the patient’s bodily fluids. Dispose of the mask and gloves immediately. The older members and those with chronic medical conditions should minimize contact with the secluded individual.\\n\\n----\\n\\n#####Share your Idle CPU/GPU Power towards find solutions for Covid-19\\n\\n* Do you have a CPU/GPU sitting at home, not doing anything? If yes, and you are willing to let it work for drug discovery, please check out folding at home. The following text is from /r/pcmasterrace\\nJoin us and donate your unused GPU and CPU computing power to fight against Coronavirus (and several other illnesses, like Cancer, Parkinson's, etc). To download [CLICK HERE](https://foldingathome.org/start-folding/). \\n\\n* To learn more about the project, or if you need more instructions on how to run it, check out https://pcmasterrace.org/folding.\\n\\n----\\n\\nOlder Threads: [Part 1](https://www.reddit.com/r/india/comments/f2kaxr/covid19_megathread_news_and_updates/) | [Part 2](https://www.reddit.com/r/india/comments/fkttm7/coronavirus_covid19_megathread_news_and_updates_ii/) | [Part 3](https://www.reddit.com/r/india/comments/fqqdsg/coronavirus_covid19_megathread_news_and_updates_3/)\",\n",
       "              \"HELLO YOU NICE PEOPLE. WE GOT REALLY TIRED OF [BANNING AND REMOVING QUALITY MEMES on r/India](https://i.imgur.com/eUNUvNW.jpg) -  SO PLEASE FIND HERE SUB FOR INDIAN MEMES THAT IS r/IndiaMeme! \\n\\nJokes aside please take a look at the rules. \\n\\n**ATTENTION** Regarding political memes: Yes they are welcome as long as they are not hateful, low effort or baity. \\n\\nWe'll allow occasional OC memes on r/India but rest of all should go to r/IndiaMeme only! \\n\\nHave fun. 😂\",\n",
       "              '',\n",
       "              '',\n",
       "              '',\n",
       "              '',\n",
       "              '',\n",
       "              '',\n",
       "              'While talking to my mother today on phone, I came to know that after watching recent news on TV they decided to stop buying vegetables and groceries items from their usual vendors.  \\n\\nAfter some time my wife told me that her parents also stopped taking milk from their old vendor(*doodhwala*). Keep in mind that both my In-Laws and my Parents were getting all of these essential items at their doorsteps since they\\'re old customers of those vendors. \\n\\nNow after this they\\'ve to go out and buy these stuff as obviously they\\'re very firm to not get any online delivery since they won\\'t be able to know who\\'ll be coming to deliver those items.\\n\\nYesterday in one of my WhatsApp group one person sent this message: \"*Today I went out to buy vegetables and fruits and luckily I\\'ve found one shop after sorting out all the items, I was about to pay to the vendor but suddenly I came to know that he belongs to a certain community, immediately after that I dropped everything came out of the shop and then I searched and bought the same things from another vendor who belongs to a different community.*\" (This person didn\\'t use the phrase *certain/different community*)\\n\\nI tried my best to convince my parents but all my arguments, NDTV, AltNews, BoomLive and PIBFactCheck Links are in vain but then I realised that when I am not able to help OR convince most of colleagues and friends who are well educated and working in big firms, MNCs then how am I able to convince my parents?\\n\\nAnd what is the point of posting, tweeting and discussing about all these kind of issues when I am not even able to convince my family, my own parents?',\n",
       "              ''],\n",
       "             'created': [1587009615.0,\n",
       "              1586715526.0,\n",
       "              1587308004.0,\n",
       "              1587301560.0,\n",
       "              1587307403.0,\n",
       "              1587323815.0,\n",
       "              1587337801.0,\n",
       "              1587311441.0,\n",
       "              1587327720.0,\n",
       "              1587294160.0],\n",
       "             'comments': [Comment(id='fnvpgio'),\n",
       "              Comment(id='fnk5g1t'),\n",
       "              Comment(id='fnvhqlt'),\n",
       "              Comment(id='fnvf28d'),\n",
       "              Comment(id='fnv6zqg'),\n",
       "              Comment(id='fnwj2va'),\n",
       "              Comment(id='fnwkcne'),\n",
       "              Comment(id='fnw1bs9'),\n",
       "              Comment(id='fnvniis'),\n",
       "              Comment(id='fnvizrp')]})"
      ]
     },
     "execution_count": 9,
     "metadata": {},
     "output_type": "execute_result"
    }
   ],
   "source": [
    "india_posts = defaultdict(list)\n",
    "for post in hot_posts:\n",
    "    india_posts['title'].append(post.title)\n",
    "    india_posts['score'].append(post.score)\n",
    "    india_posts['url'].append(post.url)\n",
    "    india_posts['num_comments'].append(post.num_comments)\n",
    "    india_posts['text'].append(post.selftext)\n",
    "    india_posts['created'].append(post.created)\n",
    "    #  a limit of None means that all MoreComments objects will be replaced until there are none left\n",
    "    post.comments.replace_more(limit=None)\n",
    "    all_comments = ''\n",
    "    for comment in post.comments:\n",
    "        all_comments += comment.body\n",
    "    \n",
    "    india_posts['comments'].append(comment)\n",
    "\n",
    "india_posts"
   ]
  },
  {
   "cell_type": "code",
   "execution_count": null,
   "metadata": {},
   "outputs": [],
   "source": [
    "india_postsdf = pd.DataFrame(india_posts)"
   ]
  },
  {
   "cell_type": "code",
   "execution_count": null,
   "metadata": {},
   "outputs": [],
   "source": [
    "_timestamp = india_postsdf[\"created\"].apply(get_date)\n",
    "india_postsdf = india_postsdf.assign(timestamp = _timestamp)\n",
    "del india_postsdf['created']"
   ]
  },
  {
   "cell_type": "code",
   "execution_count": null,
   "metadata": {},
   "outputs": [],
   "source": [
    "india_postsdf.to_csv('india_posts.csv', index=False)"
   ]
  },
  {
   "cell_type": "code",
   "execution_count": null,
   "metadata": {},
   "outputs": [
    {
     "data": {
      "text/html": [
       "<div>\n",
       "<style scoped>\n",
       "    .dataframe tbody tr th:only-of-type {\n",
       "        vertical-align: middle;\n",
       "    }\n",
       "\n",
       "    .dataframe tbody tr th {\n",
       "        vertical-align: top;\n",
       "    }\n",
       "\n",
       "    .dataframe thead th {\n",
       "        text-align: right;\n",
       "    }\n",
       "</style>\n",
       "<table border=\"1\" class=\"dataframe\">\n",
       "  <thead>\n",
       "    <tr style=\"text-align: right;\">\n",
       "      <th></th>\n",
       "      <th>title</th>\n",
       "      <th>score</th>\n",
       "      <th>url</th>\n",
       "      <th>num_comments</th>\n",
       "      <th>text</th>\n",
       "      <th>comments</th>\n",
       "      <th>timestamp</th>\n",
       "    </tr>\n",
       "  </thead>\n",
       "  <tbody>\n",
       "    <tr>\n",
       "      <th>0</th>\n",
       "      <td>Coronavirus (COVID-19) Megathread - News and U...</td>\n",
       "      <td>114</td>\n",
       "      <td>https://www.reddit.com/r/india/comments/g1zi21...</td>\n",
       "      <td>1441</td>\n",
       "      <td>###[Covid-19 Fundraisers &amp; Donation Links](htt...</td>\n",
       "      <td>fnvpgio</td>\n",
       "      <td>2020-04-16 09:30:15</td>\n",
       "    </tr>\n",
       "    <tr>\n",
       "      <th>1</th>\n",
       "      <td>Announcing r/IndiaMeme, our own sub for memes ...</td>\n",
       "      <td>292</td>\n",
       "      <td>https://www.reddit.com/r/india/comments/fzub9j...</td>\n",
       "      <td>87</td>\n",
       "      <td>HELLO YOU NICE PEOPLE. WE GOT REALLY TIRED OF ...</td>\n",
       "      <td>fnk5g1t</td>\n",
       "      <td>2020-04-12 23:48:46</td>\n",
       "    </tr>\n",
       "    <tr>\n",
       "      <th>2</th>\n",
       "      <td>#OnThisDay in 1975, history was made when Indi...</td>\n",
       "      <td>2056</td>\n",
       "      <td>https://i.redd.it/8guugveh2qt41.jpg</td>\n",
       "      <td>63</td>\n",
       "      <td>NaN</td>\n",
       "      <td>fnvhqlt</td>\n",
       "      <td>2020-04-19 20:23:24</td>\n",
       "    </tr>\n",
       "    <tr>\n",
       "      <th>3</th>\n",
       "      <td>Different stages of hair loss in perfect order...</td>\n",
       "      <td>2431</td>\n",
       "      <td>https://i.redd.it/ydbmwsa7jpt41.jpg</td>\n",
       "      <td>75</td>\n",
       "      <td>NaN</td>\n",
       "      <td>fnvf28d</td>\n",
       "      <td>2020-04-19 18:36:00</td>\n",
       "    </tr>\n",
       "    <tr>\n",
       "      <th>4</th>\n",
       "      <td>All the 186 COVID-19 positive cases that were ...</td>\n",
       "      <td>569</td>\n",
       "      <td>https://twitter.com/ANI/status/125176181030855...</td>\n",
       "      <td>85</td>\n",
       "      <td>NaN</td>\n",
       "      <td>fnv6zqg</td>\n",
       "      <td>2020-04-19 20:13:23</td>\n",
       "    </tr>\n",
       "    <tr>\n",
       "      <th>5</th>\n",
       "      <td>Saudi scholar calls for expulsion of Hindu sup...</td>\n",
       "      <td>202</td>\n",
       "      <td>https://www.middleeastmonitor.com/20200417-sau...</td>\n",
       "      <td>48</td>\n",
       "      <td>NaN</td>\n",
       "      <td>fnwj2va</td>\n",
       "      <td>2020-04-20 00:46:55</td>\n",
       "    </tr>\n",
       "    <tr>\n",
       "      <th>6</th>\n",
       "      <td>Tejasvi Surya deletes tweet on Arab women that...</td>\n",
       "      <td>96</td>\n",
       "      <td>https://www.ibtimes.co.in/tejasvi-surya-delete...</td>\n",
       "      <td>15</td>\n",
       "      <td>NaN</td>\n",
       "      <td>fnwkcne</td>\n",
       "      <td>2020-04-20 04:40:01</td>\n",
       "    </tr>\n",
       "    <tr>\n",
       "      <th>7</th>\n",
       "      <td>Rajasthan Congress MLA took back the ration fr...</td>\n",
       "      <td>301</td>\n",
       "      <td>https://twitter.com/IndiaToday/status/12517392...</td>\n",
       "      <td>15</td>\n",
       "      <td>NaN</td>\n",
       "      <td>fnw1bs9</td>\n",
       "      <td>2020-04-19 21:20:41</td>\n",
       "    </tr>\n",
       "    <tr>\n",
       "      <th>8</th>\n",
       "      <td>TIL my In-Laws have stopped taking milk and my...</td>\n",
       "      <td>116</td>\n",
       "      <td>https://www.reddit.com/r/india/comments/g46sqm...</td>\n",
       "      <td>40</td>\n",
       "      <td>While talking to my mother today on phone, I c...</td>\n",
       "      <td>fnvniis</td>\n",
       "      <td>2020-04-20 01:52:00</td>\n",
       "    </tr>\n",
       "    <tr>\n",
       "      <th>9</th>\n",
       "      <td>India's cases jumped from 14,352 on Apr 17 to ...</td>\n",
       "      <td>641</td>\n",
       "      <td>https://i.redd.it/2mbd2uqbxot41.jpg</td>\n",
       "      <td>211</td>\n",
       "      <td>NaN</td>\n",
       "      <td>fnvizrp</td>\n",
       "      <td>2020-04-19 16:32:40</td>\n",
       "    </tr>\n",
       "  </tbody>\n",
       "</table>\n",
       "</div>"
      ],
      "text/plain": [
       "                                               title  score  \\\n",
       "0  Coronavirus (COVID-19) Megathread - News and U...    114   \n",
       "1  Announcing r/IndiaMeme, our own sub for memes ...    292   \n",
       "2  #OnThisDay in 1975, history was made when Indi...   2056   \n",
       "3  Different stages of hair loss in perfect order...   2431   \n",
       "4  All the 186 COVID-19 positive cases that were ...    569   \n",
       "5  Saudi scholar calls for expulsion of Hindu sup...    202   \n",
       "6  Tejasvi Surya deletes tweet on Arab women that...     96   \n",
       "7  Rajasthan Congress MLA took back the ration fr...    301   \n",
       "8  TIL my In-Laws have stopped taking milk and my...    116   \n",
       "9  India's cases jumped from 14,352 on Apr 17 to ...    641   \n",
       "\n",
       "                                                 url  num_comments  \\\n",
       "0  https://www.reddit.com/r/india/comments/g1zi21...          1441   \n",
       "1  https://www.reddit.com/r/india/comments/fzub9j...            87   \n",
       "2                https://i.redd.it/8guugveh2qt41.jpg            63   \n",
       "3                https://i.redd.it/ydbmwsa7jpt41.jpg            75   \n",
       "4  https://twitter.com/ANI/status/125176181030855...            85   \n",
       "5  https://www.middleeastmonitor.com/20200417-sau...            48   \n",
       "6  https://www.ibtimes.co.in/tejasvi-surya-delete...            15   \n",
       "7  https://twitter.com/IndiaToday/status/12517392...            15   \n",
       "8  https://www.reddit.com/r/india/comments/g46sqm...            40   \n",
       "9                https://i.redd.it/2mbd2uqbxot41.jpg           211   \n",
       "\n",
       "                                                text comments  \\\n",
       "0  ###[Covid-19 Fundraisers & Donation Links](htt...  fnvpgio   \n",
       "1  HELLO YOU NICE PEOPLE. WE GOT REALLY TIRED OF ...  fnk5g1t   \n",
       "2                                                NaN  fnvhqlt   \n",
       "3                                                NaN  fnvf28d   \n",
       "4                                                NaN  fnv6zqg   \n",
       "5                                                NaN  fnwj2va   \n",
       "6                                                NaN  fnwkcne   \n",
       "7                                                NaN  fnw1bs9   \n",
       "8  While talking to my mother today on phone, I c...  fnvniis   \n",
       "9                                                NaN  fnvizrp   \n",
       "\n",
       "             timestamp  \n",
       "0  2020-04-16 09:30:15  \n",
       "1  2020-04-12 23:48:46  \n",
       "2  2020-04-19 20:23:24  \n",
       "3  2020-04-19 18:36:00  \n",
       "4  2020-04-19 20:13:23  \n",
       "5  2020-04-20 00:46:55  \n",
       "6  2020-04-20 04:40:01  \n",
       "7  2020-04-19 21:20:41  \n",
       "8  2020-04-20 01:52:00  \n",
       "9  2020-04-19 16:32:40  "
      ]
     },
     "execution_count": 13,
     "metadata": {},
     "output_type": "execute_result"
    }
   ],
   "source": [
    "india_posts = pd.read_csv('india_posts.csv')\n",
    "india_posts.head(10)"
   ]
  },
  {
   "cell_type": "code",
   "execution_count": null,
   "metadata": {},
   "outputs": [
    {
     "data": {
      "text/plain": [
       "7"
      ]
     },
     "execution_count": 14,
     "metadata": {},
     "output_type": "execute_result"
    }
   ],
   "source": [
    "india_posts.isnull().sum().sum()"
   ]
  },
  {
   "cell_type": "code",
   "execution_count": null,
   "metadata": {},
   "outputs": [
    {
     "data": {
      "text/plain": [
       "title           object\n",
       "score            int64\n",
       "url             object\n",
       "num_comments     int64\n",
       "text            object\n",
       "comments        object\n",
       "timestamp       object\n",
       "dtype: object"
      ]
     },
     "execution_count": 15,
     "metadata": {},
     "output_type": "execute_result"
    }
   ],
   "source": [
    "india_posts.dtypes"
   ]
  },
  {
   "cell_type": "code",
   "execution_count": null,
   "metadata": {},
   "outputs": [],
   "source": [
    "# india_posts['title'] = pd.Series(india_posts['title'], dtype='string')\n",
    "# india_posts.loc[:,'title'] = india_posts.loc[:, 'title'].astype(str)\n",
    "# india_posts['title'].apply(str)\n",
    "# india_posts['title'] = india_posts['title'].astype('|S')\n",
    "# india_posts['title']"
   ]
  },
  {
   "cell_type": "code",
   "execution_count": null,
   "metadata": {},
   "outputs": [],
   "source": [
    "flairs=['Politics','Non-Political','AskIndia', \"[R]eddiquette\", 'Science/Technology', 'Policy/Economy', 'Business/Finance', 'Scheduled', 'Sports', 'Food', 'Photography', 'AMA', ]"
   ]
  },
  {
   "cell_type": "code",
   "execution_count": null,
   "metadata": {},
   "outputs": [],
   "source": [
    "data = defaultdict(list)\n",
    "for flair in flairs:\n",
    "    search_flair = india_subreddit.search(flair, limit=100)\n",
    "    for post in search_flair:\n",
    "        data['flair'].append(flair)\n",
    "        data['title'].append(post.title)\n",
    "        data['score'].append(post.score)\n",
    "        data['url'].append(post.url)\n",
    "        data['num_comments'].append(post.num_comments)\n",
    "        data['text'].append(post.selftext)\n",
    "        data['created'].append(post.created)\n",
    "        post.comments.replace_more(limit=None)\n",
    "        all_comments = ''\n",
    "        for comment in post.comments:\n",
    "            all_comments += comment.body\n",
    "\n",
    "        data['comments'].append(comment)\n",
    "data"
   ]
  },
  {
   "cell_type": "code",
   "execution_count": null,
   "metadata": {},
   "outputs": [],
   "source": [
    "datadf = pd.DataFrame(data)\n",
    "_timestamp = datadf['created'].apply(get_date)\n",
    "datadf = datadf.assign(timestamp = _timestamp)\n",
    "del datadf['created']\n",
    "datadf.to_csv('dataset.csv', index=False)"
   ]
  },
  {
   "cell_type": "code",
   "execution_count": null,
   "metadata": {},
   "outputs": [],
   "source": [
    "datadf = pd.read_csv('dataset.csv')\n",
    "datadf.head(10)"
   ]
  },
  {
   "cell_type": "code",
   "execution_count": null,
   "metadata": {},
   "outputs": [],
   "source": []
  }
 ],
 "metadata": {
  "kernelspec": {
   "display_name": "Python 3",
   "language": "python",
   "name": "python3"
  },
  "language_info": {
   "codemirror_mode": {
    "name": "ipython",
    "version": 3
   },
   "file_extension": ".py",
   "mimetype": "text/x-python",
   "name": "python",
   "nbconvert_exporter": "python",
   "pygments_lexer": "ipython3",
   "version": "3.7.3"
  }
 },
 "nbformat": 4,
 "nbformat_minor": 2
}
