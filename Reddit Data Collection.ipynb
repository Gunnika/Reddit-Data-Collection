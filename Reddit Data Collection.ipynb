{
 "cells": [
  {
   "cell_type": "code",
   "execution_count": 1,
   "metadata": {},
   "outputs": [],
   "source": [
    "import praw\n",
    "import pandas as pd\n",
    "from collections import defaultdict "
   ]
  },
  {
   "cell_type": "code",
   "execution_count": 2,
   "metadata": {},
   "outputs": [],
   "source": [
    "# client_id='PERSONAL_USE_SCRIPT_14_CHARS', \n",
    "#                      client_secret='SECRET_KEY_27_CHARS ', \n",
    "#                      user_agent='YOUR_APP_NAME'\n",
    "reddit = praw.Reddit(client_id='R30fcxAZLJ7Wyw',\n",
    "                     client_secret='8Zf87krHYa_zXRXPWEF8hK2Twfs',\n",
    "                     user_agent='project1',\n",
    "                     username = 'gbatra',\n",
    "                     password = \"HOLYMOLY1999\"\n",
    "                    )"
   ]
  },
  {
   "cell_type": "code",
   "execution_count": 3,
   "metadata": {},
   "outputs": [
    {
     "name": "stdout",
     "output_type": "stream",
     "text": [
      "False\n"
     ]
    }
   ],
   "source": [
    "print(reddit.read_only)"
   ]
  },
  {
   "cell_type": "code",
   "execution_count": 4,
   "metadata": {},
   "outputs": [
    {
     "name": "stdout",
     "output_type": "stream",
     "text": [
      "### We are looking for additional moderators. If you believe you can help, apply [via modmail](https://www.reddit.com/message/compose?to=%2Fr%2Findia)\n",
      "\n",
      "###[r/India Rules](https://www.reddit.com/r/India/wiki/rules)\n",
      "\n",
      "###[PushBullet Notifications](https://www.pushbullet.com/channel?tag=redditindia)\n",
      "\n",
      "###[r/India Discord Server](https://discord.gg/6V29X7f)\n",
      "\n",
      "###[Scheduled threads](https://www.reddit.com/r/india/comments/b27sx9/scheduled_threads/)\n",
      "\n",
      "###[r/India twitter](https://twitter.com/redditindia)\n",
      "\n",
      "#Filters & Hot Topics:\n",
      "\n",
      "> **Enable**[All](http://www.reddit.com/r/india/#aa)[Non-Political](http://yy.reddit.com/r/india/#yy)[Politics](http://xx.reddit.com/r/india/#xx)[\\[R\\]eddiquette](http://zz.reddit.com/r/india/#zz)[AMA](https://am.reddit.com/r/india/search?q=flair%3AAMA&sort=new&restrict_sr=on/#am)[Scheduled](https://sd.reddit.com/r/india/search?q=flair%3AScheduled+-title%3ARandom&restrict_sr=on&sort=new&t=all/#sd)[Science & Tech.](http://bb.reddit.com/r/india/#bb)[Self Posts](http://ss.reddit.com/r/india/#ss)\n",
      "\n",
      "> **Disable**[Hide Politics and Policy](http://hp.reddit.com/r/india/#yy)[Hide AdBlocker Unfriendly](http://ab.reddit.com/r/india/#ab)  \n",
      "  \n",
      "\n",
      "\n",
      "#Welcome to \\/r/India\n",
      "1. [What is Reddit?](https://www.reddit.com/wiki/reddit_101)\n",
      "2. [Reddit India Wiki](http://www.reddit.com/r/india/wiki/index)\n",
      "3. [Follow us on Twitter - @RedditIndia](https://twitter.com/RedditIndia)\n",
      "4. [All India related sub-reddits](http://www.reddit.com/r/india/wiki/related_subreddits)\n",
      "\n",
      "#Requests\n",
      "1. Please see [this](http://www.reddit.com/r/india/wiki/requests) for further details.\n",
      "2. Do read the **[Reddiquette](http://www.reddit.com/help/reddiquette)** and refrain from personal/vindictive attacks while commenting.\n",
      "3. Please provide **[translations](http://www.reddit.com/r/india/comments/eu3nb/a_suggestion_for_rindia/c1ayhxr)** if comment in languages other than English.\n",
      "4. Please use spoiler tags where needed. `[](#s \"Modi\")` becomes [](#s \"PM\").\n",
      "\n",
      "#Community\n",
      "\n",
      "1. [Travel Information](http://www.reddit.com/r/india/wiki/travel_information)\n",
      "2. [State of the Week Threads](http://www.reddit.com/r/india/wiki/state_of_the_week)\n",
      "3. [IRC](http://webchat.freenode.net/?channels=##rindia)\n",
      "4. [Special mentions](http://www.reddit.com/r/india/wiki/contributors)\n",
      "5. [Useful Posts by Redditors](https://www.reddit.com/r/india/wiki/useful_posts)\n",
      "\n",
      "\n",
      ">####Avoid duplicates: Check /r/india/new\n"
     ]
    }
   ],
   "source": [
    "india_subreddit = reddit.subreddit('india')\n",
    "print(india_subreddit.description)"
   ]
  },
  {
   "cell_type": "code",
   "execution_count": 5,
   "metadata": {},
   "outputs": [],
   "source": [
    "# Each subreddit has five different ways of organizing the topics created by redditors: .hot, .new,\n",
    "# .controversial, .top, and .gilded. \n",
    "# You can also use .search(\"SEARCH_KEYWORDS\") to get only results matching an engine search."
   ]
  },
  {
   "cell_type": "code",
   "execution_count": 6,
   "metadata": {},
   "outputs": [],
   "source": [
    "# get 10 hot posts from the MachineLearning subreddit\n",
    "hot_posts = india_subreddit.hot(limit=10)"
   ]
  },
  {
   "cell_type": "code",
   "execution_count": 7,
   "metadata": {},
   "outputs": [],
   "source": [
    "# test = []\n",
    "# for post in hot_posts:\n",
    "#     print(\"Title: \"+ post.title)\n",
    "#     print(\"Score: \"+ str(post.score))\n",
    "#     print(\"ID: \"+ str(post.id))\n",
    "#     print(\"Subreddit: \"+ str(post.subreddit))\n",
    "#     print(\"URL: \"+ post.url)\n",
    "#     print(\"No. of comments: \"+ str(post.num_comments))\n",
    "#     print(\"Self Text: \"+ post.selftext)\n",
    "#     print(\"Post Created: \"+ str(post.created))\n",
    "#     test.append([post.title, post.score, post.id])\n",
    "#     print()"
   ]
  },
  {
   "cell_type": "code",
   "execution_count": 8,
   "metadata": {},
   "outputs": [],
   "source": [
    "# test"
   ]
  },
  {
   "cell_type": "code",
   "execution_count": 9,
   "metadata": {},
   "outputs": [],
   "source": [
    "india_posts = defaultdict(list)\n",
    "for post in hot_posts:\n",
    "    india_posts['title'].append(post.title)\n",
    "    india_posts['score'].append(post.score)\n",
    "    india_posts['url'].append(post.url)\n",
    "    india_posts['num_comments'].append(post.num_comments)\n",
    "#     india_posts['selftext'].append(post.selftext)\n",
    "    india_posts['created'].append(post.created)\n",
    "    india_posts['title'].append(post.title)"
   ]
  },
  {
   "cell_type": "code",
   "execution_count": 10,
   "metadata": {},
   "outputs": [
    {
     "data": {
      "text/plain": [
       "defaultdict(list,\n",
       "            {'title': ['Coronavirus (COVID-19) Megathread - News and Updates - 4',\n",
       "              'Coronavirus (COVID-19) Megathread - News and Updates - 4',\n",
       "              'Announcing r/IndiaMeme, our own sub for memes that are related to India. Welcoming all the memers to submit their memes and OC memes!',\n",
       "              'Announcing r/IndiaMeme, our own sub for memes that are related to India. Welcoming all the memers to submit their memes and OC memes!',\n",
       "              'Pizza delivery boy tests positive, 72 families in South Delhi ordered to quarantine themselves',\n",
       "              'Pizza delivery boy tests positive, 72 families in South Delhi ordered to quarantine themselves',\n",
       "              '‘Told no need to eat twice a day to live’: Woman at Pune camp for migrant workers - pune news',\n",
       "              '‘Told no need to eat twice a day to live’: Woman at Pune camp for migrant workers - pune news',\n",
       "              \"Twitter suspends (Kangana Ranaut's sister) Rangoli Chandel's account after controversial posts.\",\n",
       "              \"Twitter suspends (Kangana Ranaut's sister) Rangoli Chandel's account after controversial posts.\",\n",
       "              '\"You\\'re so shameless. You don\\'t know anything about Mumbai\": Journalist lashes out at Rajat Sharma for giving communal colour to Bandra\\'s COVID-19 lockdown violation',\n",
       "              '\"You\\'re so shameless. You don\\'t know anything about Mumbai\": Journalist lashes out at Rajat Sharma for giving communal colour to Bandra\\'s COVID-19 lockdown violation',\n",
       "              'A polite request to all Indians here',\n",
       "              'A polite request to all Indians here',\n",
       "              'Delhi Tops the tests per million chart',\n",
       "              'Delhi Tops the tests per million chart',\n",
       "              'India charges Tablighi Jammat chief with culpable homicide for coronavirus surge',\n",
       "              'India charges Tablighi Jammat chief with culpable homicide for coronavirus surge',\n",
       "              'I disagree with Narendra Modi with a lot of issues but now is not the time to fight. Unite and fight the virus: Rahul Gandhi',\n",
       "              'I disagree with Narendra Modi with a lot of issues but now is not the time to fight. Unite and fight the virus: Rahul Gandhi'],\n",
       "             'score': [54, 216, 2888, 273, 390, 147, 194, 152, 285, 280],\n",
       "             'url': ['https://www.reddit.com/r/india/comments/g1zi21/coronavirus_covid19_megathread_news_and_updates_4/',\n",
       "              'https://www.reddit.com/r/india/comments/fzub9j/announcing_rindiameme_our_own_sub_for_memes_that/',\n",
       "              'https://www.businessinsider.in/india/news/72-south-delhi-families-told-to-self-quarantine-after-pizza-delivery-boy-tests-positive/articleshow/75172558.cms',\n",
       "              'https://www.hindustantimes.com/cities/you-don-t-need-to-eat-twice-to-live-migrant-labourers-told-at-a-pune-camp/story-HuekKDsaza1JWyaZyWqZyK.html',\n",
       "              'https://www.dnaindia.com/bollywood/report-twitter-suspends-kangana-ranaut-s-sister-rangoli-chandel-s-account-after-controversial-posts-2821210',\n",
       "              'http://www.jantakareporter.com/entertainment/youre-so-shameless-you-dont-know-anything-about-mumbai-journalist-lashes-out-at-rajat-sharma-for-giving-communal-colour-to-bandras-lockdown-violation/287812/?fbclid=IwAR3hhWZNGapxfZX1DVA9YBVppTtXMPI73FAxRqDxX42w_nvtzZtwrbL4LlI',\n",
       "              'https://www.reddit.com/r/india/comments/g2ct57/a_polite_request_to_all_indians_here/',\n",
       "              'https://i.redd.it/cdthdvzu86t41.jpg',\n",
       "              'https://reut.rs/2z6oRgX',\n",
       "              'https://twitter.com/ANI/status/1250701042997760001?s=20'],\n",
       "             'num_comments': [353, 67, 309, 19, 127, 14, 38, 32, 41, 68],\n",
       "             'created': [1587009615.0,\n",
       "              1586715526.0,\n",
       "              1587044111.0,\n",
       "              1587068095.0,\n",
       "              1587058099.0,\n",
       "              1587073754.0,\n",
       "              1587063466.0,\n",
       "              1587068008.0,\n",
       "              1587055416.0,\n",
       "              1587054852.0]})"
      ]
     },
     "execution_count": 10,
     "metadata": {},
     "output_type": "execute_result"
    }
   ],
   "source": [
    "india_posts"
   ]
  },
  {
   "cell_type": "code",
   "execution_count": 11,
   "metadata": {},
   "outputs": [],
   "source": [
    "# india_posts = []\n",
    "# for post in hot_posts:\n",
    "#     title = post.title\n",
    "#     score = post.score\n",
    "#     subreddit = post.subreddit\n",
    "#     url = post.url\n",
    "#     num_comments = post.num_comments\n",
    "#     selftext = post.selftext\n",
    "#     created = post.created\n",
    "#     india_posts.append([title, score, id, subreddit, url, num_comments, selftext, created])\n",
    "# #     india_posts.append([post.title, post.score, post.id, post.subreddit, post.url, post.num_comments, post.selftext, post.created])"
   ]
  },
  {
   "cell_type": "code",
   "execution_count": 12,
   "metadata": {},
   "outputs": [],
   "source": [
    "# india_posts"
   ]
  },
  {
   "cell_type": "code",
   "execution_count": 13,
   "metadata": {},
   "outputs": [],
   "source": [
    "# india_posts = pd.DataFrame(india_posts,columns=['title', 'score', 'id', 'subreddit', 'url', 'num_comments', 'body', 'created'])\n",
    "# india_posts"
   ]
  },
  {
   "cell_type": "code",
   "execution_count": 14,
   "metadata": {},
   "outputs": [],
   "source": [
    "# india_posts.to_csv('top_india_subreddit_posts.csv')"
   ]
  }
 ],
 "metadata": {
  "kernelspec": {
   "display_name": "Python 3",
   "language": "python",
   "name": "python3"
  },
  "language_info": {
   "codemirror_mode": {
    "name": "ipython",
    "version": 3
   },
   "file_extension": ".py",
   "mimetype": "text/x-python",
   "name": "python",
   "nbconvert_exporter": "python",
   "pygments_lexer": "ipython3",
   "version": "3.7.3"
  }
 },
 "nbformat": 4,
 "nbformat_minor": 2
}
