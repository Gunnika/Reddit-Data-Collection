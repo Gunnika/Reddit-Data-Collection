{
 "cells": [
  {
   "cell_type": "code",
   "execution_count": 1,
   "metadata": {},
   "outputs": [],
   "source": [
    "import praw"
   ]
  },
  {
   "cell_type": "code",
   "execution_count": 3,
   "metadata": {},
   "outputs": [],
   "source": [
    "# client_id='PERSONAL_USE_SCRIPT_14_CHARS', \n",
    "#                      client_secret='SECRET_KEY_27_CHARS ', \n",
    "#                      user_agent='YOUR_APP_NAME'\n",
    "reddit = praw.Reddit(client_id='R30fcxAZLJ7Wyw',\n",
    "                     client_secret='8Zf87krHYa_zXRXPWEF8hK2Twfs',\n",
    "                     user_agent='project1')"
   ]
  },
  {
   "cell_type": "code",
   "execution_count": 4,
   "metadata": {},
   "outputs": [],
   "source": [
    "subreddit = reddit.subreddit('india')"
   ]
  },
  {
   "cell_type": "code",
   "execution_count": 5,
   "metadata": {},
   "outputs": [],
   "source": [
    "# Each subreddit has five different ways of organizing the topics created by redditors: .hot, .new,\n",
    "# .controversial, .top, and .gilded. \n",
    "# You can also use .search(\"SEARCH_KEYWORDS\") to get only results matching an engine search."
   ]
  },
  {
   "cell_type": "code",
   "execution_count": 6,
   "metadata": {},
   "outputs": [],
   "source": [
    "# get 10 hot posts from the MachineLearning subreddit\n",
    "hot_posts = subreddit.hot(limit=10)"
   ]
  },
  {
   "cell_type": "code",
   "execution_count": 9,
   "metadata": {},
   "outputs": [
    {
     "name": "stdout",
     "output_type": "stream",
     "text": [
      "Coronavirus (COVID-19) Megathread - News and Updates - 4\n",
      "Announcing r/IndiaMeme, our own sub for memes that are related to India. Welcoming all the memers to submit their memes and OC memes!\n",
      "Pizza delivery boy tests positive, 72 families in South Delhi ordered to quarantine themselves\n",
      "After protests, Kerala local BJP leader arrested for allegedly raping his student\n",
      "Tens of thousands of Chinese PPE kits fail India safety test\n",
      "Dads, Indian Dads\n",
      "Twitter suspends (Kangana Ranaut's sister) Rangoli Chandel's account after controversial posts.\n",
      "India charges Tablighi Jammat chief with culpable homicide for coronavirus surge\n",
      "400 families block Bengal highway for 3 hours alleging no food amid lockdown\n",
      "E-commerce companies allowed to deliver essential and non-essential items from April 20\n"
     ]
    }
   ],
   "source": [
    "for post in hot_posts:\n",
    "    print(post.title)"
   ]
  },
  {
   "cell_type": "code",
   "execution_count": null,
   "metadata": {},
   "outputs": [],
   "source": []
  }
 ],
 "metadata": {
  "kernelspec": {
   "display_name": "Python 3",
   "language": "python",
   "name": "python3"
  },
  "language_info": {
   "codemirror_mode": {
    "name": "ipython",
    "version": 3
   },
   "file_extension": ".py",
   "mimetype": "text/x-python",
   "name": "python",
   "nbconvert_exporter": "python",
   "pygments_lexer": "ipython3",
   "version": "3.7.3"
  }
 },
 "nbformat": 4,
 "nbformat_minor": 2
}
