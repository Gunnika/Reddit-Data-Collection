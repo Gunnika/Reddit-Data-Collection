{
 "cells": [
  {
   "cell_type": "code",
   "execution_count": 1,
   "metadata": {},
   "outputs": [],
   "source": [
    "import praw\n",
    "import pandas as %pd\n",
    "import datetime as dt\n",
    "from collections import defaultdict "
   ]
  },
  {
   "cell_type": "code",
   "execution_count": 2,
   "metadata": {},
   "outputs": [
    {
     "name": "stdout",
     "output_type": "stream",
     "text": [
      "False\n"
     ]
    }
   ],
   "source": [
    "# client_id='PERSONAL_USE_SCRIPT_14_CHARS', \n",
    "#                      client_secret='SECRET_KEY_27_CHARS ', \n",
    "#                      user_agent='YOUR_APP_NAME'\n",
    "reddit = praw.Reddit(client_id='R30fcxAZLJ7Wyw',\n",
    "                     client_secret='8Zf87krHYa_zXRXPWEF8hK2Twfs',\n",
    "                     user_agent='project1',\n",
    "                     username = 'gbatra',\n",
    "                     password = \"HOLYMOLY1999\"\n",
    "                    )\n",
    "print(reddit.read_only)"
   ]
  },
  {
   "cell_type": "code",
   "execution_count": 3,
   "metadata": {},
   "outputs": [],
   "source": [
    "def get_date(created):\n",
    "    return dt.datetime.fromtimestamp(created)"
   ]
  },
  {
   "cell_type": "code",
   "execution_count": 4,
   "metadata": {},
   "outputs": [
    {
     "name": "stdout",
     "output_type": "stream",
     "text": [
      "### We are looking for additional moderators. If you believe you can help, apply [via modmail](https://www.reddit.com/message/compose?to=%2Fr%2Findia)\n",
      "\n",
      "###[r/India Rules](https://www.reddit.com/r/India/wiki/rules)\n",
      "\n",
      "###[PushBullet Notifications](https://www.pushbullet.com/channel?tag=redditindia)\n",
      "\n",
      "###[r/India Discord Server](https://discord.gg/6V29X7f)\n",
      "\n",
      "###[Scheduled threads](https://www.reddit.com/r/india/comments/b27sx9/scheduled_threads/)\n",
      "\n",
      "###[r/India twitter](https://twitter.com/redditindia)\n",
      "\n",
      "#Filters & Hot Topics:\n",
      "\n",
      "> **Enable**[All](http://www.reddit.com/r/india/#aa)[Non-Political](http://yy.reddit.com/r/india/#yy)[Politics](http://xx.reddit.com/r/india/#xx)[\\[R\\]eddiquette](http://zz.reddit.com/r/india/#zz)[AMA](https://am.reddit.com/r/india/search?q=flair%3AAMA&sort=new&restrict_sr=on/#am)[Scheduled](https://sd.reddit.com/r/india/search?q=flair%3AScheduled+-title%3ARandom&restrict_sr=on&sort=new&t=all/#sd)[Science & Tech.](http://bb.reddit.com/r/india/#bb)[Self Posts](http://ss.reddit.com/r/india/#ss)\n",
      "\n",
      "> **Disable**[Hide Politics and Policy](http://hp.reddit.com/r/india/#yy)[Hide AdBlocker Unfriendly](http://ab.reddit.com/r/india/#ab)  \n",
      "  \n",
      "\n",
      "\n",
      "#Welcome to \\/r/India\n",
      "1. [What is Reddit?](https://www.reddit.com/wiki/reddit_101)\n",
      "2. [Reddit India Wiki](http://www.reddit.com/r/india/wiki/index)\n",
      "3. [Follow us on Twitter - @RedditIndia](https://twitter.com/RedditIndia)\n",
      "4. [All India related sub-reddits](http://www.reddit.com/r/india/wiki/related_subreddits)\n",
      "\n",
      "#Requests\n",
      "1. Please see [this](http://www.reddit.com/r/india/wiki/requests) for further details.\n",
      "2. Do read the **[Reddiquette](http://www.reddit.com/help/reddiquette)** and refrain from personal/vindictive attacks while commenting.\n",
      "3. Please provide **[translations](http://www.reddit.com/r/india/comments/eu3nb/a_suggestion_for_rindia/c1ayhxr)** if comment in languages other than English.\n",
      "4. Please use spoiler tags where needed. `[](#s \"Modi\")` becomes [](#s \"PM\").\n",
      "\n",
      "#Community\n",
      "\n",
      "1. [Travel Information](http://www.reddit.com/r/india/wiki/travel_information)\n",
      "2. [State of the Week Threads](http://www.reddit.com/r/india/wiki/state_of_the_week)\n",
      "3. [IRC](http://webchat.freenode.net/?channels=##rindia)\n",
      "4. [Special mentions](http://www.reddit.com/r/india/wiki/contributors)\n",
      "5. [Useful Posts by Redditors](https://www.reddit.com/r/india/wiki/useful_posts)\n",
      "\n",
      "\n",
      ">####Avoid duplicates: Check /r/india/new\n"
     ]
    }
   ],
   "source": [
    "india_subreddit = reddit.subreddit('india')\n",
    "print(india_subreddit.description)"
   ]
  },
  {
   "cell_type": "code",
   "execution_count": 5,
   "metadata": {},
   "outputs": [],
   "source": [
    "# Each subreddit has five different ways of organizing the topics created by redditors: .hot, .new,\n",
    "# .controversial, .top, and .gilded. \n",
    "# You can also use .search(\"SEARCH_KEYWORDS\") to get only results matching an engine search."
   ]
  },
  {
   "cell_type": "code",
   "execution_count": 6,
   "metadata": {},
   "outputs": [],
   "source": [
    "# get 10 hot posts from the MachineLearning subreddit\n",
    "hot_posts = india_subreddit.hot(limit=10)"
   ]
  },
  {
   "cell_type": "code",
   "execution_count": 7,
   "metadata": {},
   "outputs": [],
   "source": [
    "# test = []\n",
    "# for post in hot_posts:\n",
    "#     print(\"Title: \"+ post.title)\n",
    "#     print(\"Score: \"+ str(post.score))\n",
    "#     print(\"ID: \"+ str(post.id))\n",
    "#     print(\"Subreddit: \"+ str(post.subreddit))\n",
    "#     print(\"URL: \"+ post.url)\n",
    "#     print(\"No. of comments: \"+ str(post.num_comments))\n",
    "#     print(\"Self Text: \"+ post.selftext)\n",
    "#     print(\"Post Created: \"+ str(post.created))\n",
    "#     test.append([post.title, post.score, post.id])\n",
    "#     print()\n",
    "# test"
   ]
  },
  {
   "cell_type": "code",
   "execution_count": 8,
   "metadata": {},
   "outputs": [],
   "source": [
    "# india_posts = defaultdict(list)\n",
    "# for post in hot_posts:\n",
    "#     india_posts['title'].append(post.title)\n",
    "#     india_posts['score'].append(post.score)\n",
    "#     india_posts['url'].append(post.url)\n",
    "#     india_posts['num_comments'].append(post.num_comments)\n",
    "#     india_posts['text'].append(post.selftext)\n",
    "#     india_posts['created'].append(post.created)\n",
    "#     #  a limit of None means that all MoreComments objects will be replaced until there are none left\n",
    "#     for comment in post.comments:\n",
    "#         india_posts['comments'].append(comment)\n",
    "\n",
    "# india_posts\n",
    "\n",
    "# This gave out an error ' ValueError: arrays must all be same length' when being converted to Dataframe"
   ]
  },
  {
   "cell_type": "code",
   "execution_count": 9,
   "metadata": {},
   "outputs": [
    {
     "data": {
      "text/plain": [
       "defaultdict(list,\n",
       "            {'title': ['Coronavirus (COVID-19) Megathread - News and Updates - 4',\n",
       "              '[Monthly Happiness Thread] Randians, please share a good/positive/happy news happening in your life recently ! :)',\n",
       "              '#OnThisDay in 1975, history was made when India’s first satellite - Aryabhata, was launched from Kapustin Yar in Russia.',\n",
       "              'Different stages of hair loss in perfect order. Mumbai local train memories.',\n",
       "              \"Tejasvi Surya deletes tweet on Arab women that read 'they never had orgasm in the last few hundred years'\",\n",
       "              'Pregnant woman in Bengaluru walks 5 km in search of hospital, doctor couple save baby',\n",
       "              'All the 186 COVID-19 positive cases that were reported yesterday were asymptomatic, they didn’t know they had Coronavirus. This is more worrying: Delhi CM Arvind Kejriwal',\n",
       "              'Saudi scholar calls for expulsion of Hindu supremacists from the Gulf',\n",
       "              'Rajasthan Congress MLA took back the ration from a woman after she told him that she supports PM Modi.',\n",
       "              \"TVF Panchayat is the most authentic rural India portrayal I've seen while being fun to watch\"],\n",
       "             'score': [117, 0, 2268, 2519, 161, 96, 599, 244, 327, 103],\n",
       "             'url': ['https://www.reddit.com/r/india/comments/g1zi21/coronavirus_covid19_megathread_news_and_updates_4/',\n",
       "              'https://www.reddit.com/r/india/comments/g4d2ix/monthly_happiness_thread_randians_please_share_a/',\n",
       "              'https://i.redd.it/8guugveh2qt41.jpg',\n",
       "              'https://i.redd.it/ydbmwsa7jpt41.jpg',\n",
       "              'https://www.ibtimes.co.in/tejasvi-surya-deletes-tweet-arab-women-that-read-they-never-had-orgasm-last-few-hundred-years-817940',\n",
       "              'https://www.thenewsminute.com/article/pregnant-woman-bengaluru-walks-5-km-search-hospital-doctor-couple-save-baby-122905',\n",
       "              'https://twitter.com/ANI/status/1251761810308554754?s=09',\n",
       "              'https://www.middleeastmonitor.com/20200417-saudi-scholar-calls-for-expulsion-of-hindu-supremacists-from-the-gulf/',\n",
       "              'https://twitter.com/IndiaToday/status/1251739273608323072',\n",
       "              'https://www.reddit.com/r/india/comments/g48akq/tvf_panchayat_is_the_most_authentic_rural_india/'],\n",
       "             'num_comments': [1483, 2, 71, 78, 21, 13, 94, 61, 17, 27],\n",
       "             'text': [\"###[Covid-19 Fundraisers & Donation Links](https://amnesty.org.in/support-indias-most-vulnerable-fight-covid-19-a-list-of-fundraisers-you-can-donate-to/) via Amnesty International\\n* [This link covers](https://amnesty.org.in/support-indias-most-vulnerable-fight-covid-19-a-list-of-fundraisers-you-can-donate-to/) Migrant Workers Day-Labourers, Other Vulnerable Groups, Urban Poor, Transgender Community, Waste-pickers and Sanitation Workers, Healthcare Workers and Doctors, Older Persons & Children and Animal Care \\n\\n------------------------------------------------------------------------------------------------------\\n\\n#####Indian Goverment\\n* [Official Twitter Collection of Indian Govt. Communications](https://twitter.com/i/events/1240662046280048646)\\n* [State and District Wise Details of Cases in India](https://www.mohfw.gov.in/pdf/DistrictWiseList324.pdf)\\n* All India Helplines: 1075 (Toll Free) | 1930 (Toll Free) | 1944 (Northeast India Only) | +911123978046 | Email ID: ncov2019@gov.in \\n* [State Helpline Numbers](https://www.mohfw.gov.in/pdf/coronvavirushelplinenumber.pdf)\\n* [Test Centers List](https://covid.icmr.org.in/index.php/testing-facilities)\\n\\n#####State Specific Threads via Reddit community\\n* [Andaman &amp; Nicobar, Lakshadweep,  Puducherry, Dadra &amp; Nagar Haveli, Daman &amp; Diu](https://www.reddit.com/r/CoronaIndia/comments/fqmry7/coronavirus_covid19_megathread_news_and_updates/) via u/TheDosaMan\\n* [Bihar](https://www.reddit.com/r/india/comments/ftky3g/covid19_every_updates_from_bihar/) via u/FilmmakerFarhan\\n* [Delhi](https://www.reddit.com/r/delhi/comments/g4azdi/covid19_updates_for_delhi_1/)\\n* [Gujarat](https://www.reddit.com/r/india/comments/fw07cd/covid19_gujarat_updates) via u/helvetikka\\n* [Karnataka](https://www.reddit.com/r/india/comments/fpv4xk/karnataka_covid19_updates/) via u/TheClassicGallery\\n* [Kerala](https://www.reddit.com/r/Kerala/comments/fgc8m6/coronavirus_covid19_megathread_news_and_updates/) via u/nithinvnath\\n* [Madhya Pradesh](https://www.reddit.com/r/india/comments/fpt2jw/mp_covid19_megathread/) via u/maardon_bhenji\\n* [Maharashtra](https://www.reddit.com/r/india/comments/fq2vqj/covid19_updates_for_maharashtra/) via u/hrishidev\\n* [Odisha](https://www.reddit.com/r/india/comments/frstw5/covid19all_updates_for_odisha) via u/aviakki1\\n* [Nagaland](https://www.reddit.com/user/-ImSoDone-/comments/fqpnov/covid19_updates_nagaland/) via u/-ImSoDone-\\n* [Punjab](https://www.reddit.com/r/india/comments/fsbwuj/punjab_covid_updates_thread/) via u/TheAltChemist\\n* [Rajasthan](https://www.reddit.com/r/pinkcity/comments/fps590/covid19_updates_for_rajasthan/) via /u/isaacseaman\\n* [Tamil Nadu](https://www.reddit.com/r/Chennai/comments/fr62oj/covid19_daily_news_updates/) via u/ughalright\\n* [Telangana](https://www.reddit.com/r/india/comments/fqn8jf/covid19_all_updates_in_telangana/) via u/lifehacker25\\n* [Uttarakhand](https://www.reddit.com/r/india/comments/fs95z1/covid19_updates_uttarakhand_edition/) via u/leopard_dopy\\n* [West Bengal](https://www.reddit.com/r/kolkata/comments/fi5hqd/covid19_updates/) via /u/ppatra\\n* [*More States are being Added*]\\n\\n#####Coronavirus Trackers, News, Updates\\n\\n* [Case Numbers via Indian Govt.](https://www.mohfw.gov.in/)\\n* [Case Numbers and Map via NDTV](https://www.ndtv.com/coronavirus/india-covid-19-outbreak-map)\\n* [Covid19India.org](https://www.covid19india.org)\\n* r/Coronavirus\\n* r/worldnews\\n* r/COVID19Positive for Covid-19 Patients\\n\\n#####Useful Guides, Precautions, Helpful Tips, Self Assessment\\n* [Safety Tips](https://www.who.int/emergencies/diseases/novel-coronavirus-2019/advice-for-public)\\n* [Coronavirus condition overview](https://www.who.int/health-topics/coronavirus)\\n* [Coronavirus Q&amp;A](https://www.who.int/news-room/q-a-detail/q-a-coronaviruses)\\n* [How to Protect Yourself and Prepare for the Coronavirus](https://www.nytimes.com/article/prepare-for-coronavirus.html)\\n* [Myth Busters via WHO](https://www.who.int/emergencies/diseases/novel-coronavirus-2019/advice-for-public/myth-busters)\\n* [Self Assessment Tool for Covid19](https://coronavirus.heallify.com/)\\n\\n#####Coronavirus (Covid-19) Multi-Lingual Shareable Resources Wiki \\n* [Wiki Thread](https://www.reddit.com/r/india/comments/fo0xj9/coronavirus_covid19_multilingual_resources_wiki/)\\n\\n* [Assamese](https://1drv.ms/u/s!AoYOmN7lWek1gn1U2sNswTmrdyym?e=qtG6Hy) | [Bengali](https://1drv.ms/u/s!AoYOmN7lWek1gkqMhFrcLJNn_GXA?e=C4Org5) |\\n[English](https://1drv.ms/u/s!AoYOmN7lWek1gWSxZMTO6BKKKYGN?e=sgYupr) | [Gujarati](https://1drv.ms/u/s!AoYOmN7lWek1ght7ez9gamQZdNuN?e=doJZmj) | \\n[Hindi](https://1drv.ms/u/s!AoYOmN7lWek1gWNzzpIljrP9jQke?e=bu6Eog) | [Kannada](https://1drv.ms/u/s!AoYOmN7lWek1ggJi4cS2y1ZULZol?e=s43xHF) | \\n[Konkani](https://1drv.ms/u/s!AoYOmN7lWek1gmRJkbslNMDc-1s1?e=gpDqma) | [Malayalam](https://1drv.ms/u/s!AoYOmN7lWek1gmeU30HlPVT-0Cqo?e=dNhg3u) | \\n[Marathi](https://1drv.ms/u/s!AoYOmN7lWek1giu0e8l9SbT27Ac_?e=eeNuHi) | [Marwari](https://1drv.ms/u/s!AoYOmN7lWek1gXxP8R5CPzEt5zhp?e=HWuXnt) | \\n[Oriya](https://1drv.ms/u/s!AoYOmN7lWek1gwcrC-WB195OyuXd?e=ozTVA4) | [Punjabi](https://1drv.ms/u/s!AoYOmN7lWek1gjxTSvU761F9Hzou?e=9gjaqg) | \\n[Tamil](https://1drv.ms/u/s!AoYOmN7lWek1gglvLHFkHSsMZgTo?e=YhLNRo) | [Telegu](https://1drv.ms/f/s!AoYOmN7lWek1gkEvVG2WLij6Up78) | \\n[Urdu](https://1drv.ms/u/s!AoYOmN7lWek1gwwpU8N-i2_x9Z5n?e=8fUHqi)\\n\\n#####r/India Community\\n* [COVID-19 India tracker](https://www.covid19india.org/) via u/splitladoo\\n* [Crowdsourced handbook of India specific data and resources](https://covidindiasupport.com/main) via u/lilhuman0\\n* [Google Spreadsheet of Statewise infections](https://docs.google.com/spreadsheets/d/1uKqaxMd5gkghBKMmp_fbnLRFLdic_Kv-i_802f77Ih0/edit#gid=0) via /u/lord_blood_raven\\n\\n#####Precautions for prevention of Corona Virus\\n^Currently ^there ^is ^no ^vaccine ^available ^to ^protect ^against ^human ^corona ^virus ^but ^we ^can ^reduce ^the ^transmission ^of ^virus ^by ^taking ^following ^precautions:\\n\\n* Do\\n * Wash your hands regularly for 20 seconds, with soap and water or alcohol-based hand rub\\n * Cover your nose and mouth with a disposable tissue or flexed elbow when you cough or sneeze\\n * Avoid close contact (1 meter or 3 feet) with people who are unwell\\n * Stay home and self-isolate from others in the household if you feel unwell\\n* Don't\\n * Touch your eyes, nose, or mouth if your hands are not clean\\n\\n#####How to Quarantine Yourself via [New York Times](https://www.nytimes.com/2020/03/06/health/self-quarantine-coronavirus.html)\\n^If ^you’re ^returning ^from ^an ^area ^that’s ^had ^a ^coronavirus ^outbreak, ^or ^if ^you’ve ^been ^in ^close ^contact ^with ^someone ^who ^tests ^positive, ^you ^may ^be ^asked ^to ^isolate ^yourself ^at ^home ^for ^two ^weeks, ^the ^presumed ^incubation ^period ^for ^the ^coronavirus.\\n\\n^It’s ^not ^easy ^to ^lock ^yourself ^away ^from ^your ^family ^and ^friends. ^These ^are ^the ^basics.\\n\\n1. **ISOLATION**: If you are infected or have been exposed to the coronavirus, you must seclude yourself from your partner, your housemates, your children, your older aunt and even your pets. If you don’t have your own room, one should be designated for your exclusive use. No visitors unless it’s absolutely essential. Don’t take the bus, subway or even a taxi.\\n\\n2. **MASKS**: If you must be around other people — in your home, or in a car, because you’re on your way to see a doctor (and only after you’ve called first) — wear a mask. Everyone else should, too.\\n\\n3. **HYGIENE**: Cover your mouth and nose with a tissue to cough or sneeze, and discard it in a lined trash can. Immediately wash your hands with soap and water for at least 20 seconds. You can use sanitizer, but soap and water are preferred. Wash your hands frequently and avoid touching your eyes, nose and mouth, if you haven’t just washed them.\\n\\n4. **DISINFECTING**: Don’t share dishes, drinking glasses, eating utensils, towels or bedding. Wash these items after you use them. Use a household cleaner to wipe down countertops, tabletops, doorknobs, bathrooms fixtures, toilets, phones, keyboards, tablets and bedside tables. That also goes for any surfaces that may be contaminated by bodily fluids.\\n\\n5. **HOUSEHOLD MEMBERS**: When around the patient, wear a face mask, and add gloves if you’re touching anything that might carry the patient’s bodily fluids. Dispose of the mask and gloves immediately. The older members and those with chronic medical conditions should minimize contact with the secluded individual.\\n\\n----\\n\\n#####Share your Idle CPU/GPU Power towards find solutions for Covid-19\\n\\n* Do you have a CPU/GPU sitting at home, not doing anything? If yes, and you are willing to let it work for drug discovery, please check out folding at home. The following text is from /r/pcmasterrace\\nJoin us and donate your unused GPU and CPU computing power to fight against Coronavirus (and several other illnesses, like Cancer, Parkinson's, etc). To download [CLICK HERE](https://foldingathome.org/start-folding/). \\n\\n* To learn more about the project, or if you need more instructions on how to run it, check out https://pcmasterrace.org/folding.\\n\\n----\\n\\nOlder Threads: [Part 1](https://www.reddit.com/r/india/comments/f2kaxr/covid19_megathread_news_and_updates/) | [Part 2](https://www.reddit.com/r/india/comments/fkttm7/coronavirus_covid19_megathread_news_and_updates_ii/) | [Part 3](https://www.reddit.com/r/india/comments/fqqdsg/coronavirus_covid19_megathread_news_and_updates_3/)\",\n",
       "              '<3         \\n          \\nLinks:                \\n**2020**              \\n[Feb MHT] (https://www.reddit.com/r/india/comments/fdse1z/monthly_happiness_thread_randians_please_share_a/)               \\n[Jan MHT] (https://www.reddit.com/r/india/comments/evlfam/monthly_happiness_thread_randians_please_share_a/)                \\n           \\n**2019**                  \\n[Dec MHT] (https://www.reddit.com/r/india/comments/eho08f/monthly_happiness_thread_randians_please_share_a/)              \\n[Nov MHT] (https://www.reddit.com/r/india/comments/e8p3kz/monthly_happiness_thread_randians_please_share_a/)       \\n[Oct MHT] (https://www.reddit.com/r/india/comments/dyz4ah/monthly_happiness_thread_randians_please_share_a/)                      \\n[Sep MHT] (https://www.reddit.com/r/india/comments/dlfisx/monthly_happiness_thread_randians_please_share_a/)              \\n[Aug MHT] (https://www.reddit.com/r/india/comments/d5fgyj/monthly_happiness_thread_randians_please_share_a/)               \\n[Jul MHT] (https://www.reddit.com/r/india/comments/cseg2j/monthly_happiness_thread_randians_please_share_a/)                               \\n[Jun MHT] (https://www.reddit.com/r/india/comments/cjpghs/monthly_happiness_thread_randians_please_share_a/)                  \\n[May MHT] (https://www.reddit.com/r/india/comments/c6hlkz/monthly_happiness_thread_randians_please_share_a/)                               \\n[Apr MHT] (https://www.reddit.com/r/india/comments/blcgok/monthly_happiness_thread_randians_please_share_a/)                              \\n[Mar MHT] (https://www.reddit.com/r/india/comments/basxnn/monthly_happiness_thread_randians_please_share_a/)                                 \\n[Feb MHT] (https://www.reddit.com/r/india/comments/avo0os/monthly_happiness_thread_randians_please_share_a/)                                 \\n[Jan MHT] (https://www.reddit.com/r/india/comments/amzdzk/monthly_happiness_thread_randians_please_share_a/)                   \\n                     \\n**2018**                   \\n[Dec MHT] (https://www.reddit.com/r/india/comments/ac3tbe/monthly_happiness_thread_randians_please_share_a/)                     \\n[Nov MHT] (https://www.reddit.com/r/india/comments/a1r0oi/monthly_happiness_thread_randians_please_share_a/)            \\n[Oct MHT] (https://old.reddit.com/r/india/comments/9rjf4r/monthly_happiness_thread_randians_please_share_a/)       \\n[Sep MHT] (https://old.reddit.com/r/india/comments/9jkcr5/monthly_happiness_thread_randians_please_share_a/)                 \\n[Aug MHT] (https://old.reddit.com/r/india/comments/9cie55/monthly_happiness_thread_randians_please_share_a/)          \\n[July MHT] (https://old.reddit.com/r/india/comments/93bvzl/monthly_happiness_thread_randians_please_share_a/)              \\n[June MHT] (https://old.reddit.com/r/india/comments/8vrg4r/monthly_happiness_thread_randians_please_share_a/)           \\n[May MHT] (https://old.reddit.com/r/india/comments/8mxbko/monthly_happiness_thread_randians_please_share_a/)           \\n[Apr MHT] (https://old.reddit.com/r/india/comments/8f9h4q/monthly_happiness_thread_randians_please_share_a/)                      \\n[Mar MHT] (https://www.reddit.com/r/india/comments/869n5d/monthly_happiness_thread_randians_please_share_a/)                      \\n[Feb MHT] (https://www.reddit.com/r/india/comments/7yl3ki/monthly_happiness_thread_randians_please_share_a/)                      \\n[Jan MHT] (https://www.reddit.com/r/india/comments/7qhupu/monthly_happiness_thread_randians_please_share_a/)           \\n           \\n**2017**          \\n[Dec MHT] (https://www.reddit.com/r/india/comments/7ktd72/monthly_happiness_thread_randians_please_share_a/)           \\n[Nov MHT] (https://www.reddit.com/r/india/comments/7e7p1s/monthly_happiness_thread_randians_please_share_a/)                      \\n[Oct MHT] (https://www.reddit.com/r/india/comments/78dxd3/monthly_happiness_thread_randians_please_share_a/)            \\n[Sep MHT] (https://www.reddit.com/r/india/comments/6yleik/monthly_happiness_thread_randians_please_share_a/)        \\n[Aug MHT] (https://www.reddit.com/r/india/comments/6srdf0/monthly_happiness_thread_randians_please_share_a/)       \\n[July MHT] (https://www.reddit.com/r/india/comments/6ms208/monthly_happiness_thread_randians_please_share_a/)          \\n[June MHT] (https://www.reddit.com/r/india/comments/6hdjij/monthly_happiness_thread_randians_please_share_a/)                \\n[May MHT] (https://www.reddit.com/r/india/comments/6bmv0o/monthly_happiness_thread_randians_please_share_a/)                \\n[Apr MHT] (https://www.reddit.com/r/india/comments/653o58/monthly_happiness_thread_randians_please_share_a/)          \\n[Mar MHT] (https://www.reddit.com/r/india/comments/5zai4a/monthly_happiness_thread_randians_please_share_a/)              \\n[Feb MHT] (https://www.reddit.com/r/india/comments/5ts70f/monthly_happiness_thread_randians_please_share_a/)           \\n[Jan MHT] (https://www.reddit.com/r/india/comments/5noss4/monthly_happiness_thread_randians_please_share_a/)         \\n         \\n**2016**            \\n[Dec MHT] (https://www.reddit.com/r/india/comments/5ig319/monthly_happiness_thread_randians_please_share_a/)              \\n[Nov MHT] (https://www.reddit.com/r/india/comments/5deopk/monthly_happiness_thread_randians_please_share_a/)            \\n[Oct MHT] (https://www.reddit.com/r/india/comments/5792mk/monthly_happiness_thread_randians_please_share_a/)           \\n[Sep MHT] (https://www.reddit.com/r/india/comments/52uoig/monthly_happiness_thread_randians_please_share_a/)                 \\n[Aug MHT] (https://www.reddit.com/r/india/comments/4xxpjp/monthly_happiness_thread_randians_please_share_a/)                  \\n[July MHT] (https://www.reddit.com/r/india/comments/4sfl7j/randians_please_share_a_goodpositivehappy_news/)',\n",
       "              '',\n",
       "              '',\n",
       "              '',\n",
       "              '',\n",
       "              '',\n",
       "              '',\n",
       "              '',\n",
       "              \"I won't deny I haven't seen many movies/shows on Rural India, but most tend to be overdramatic, reliant on getting views out of depicting unrealistic depressing lives and problems.\\n\\nPanchayat is simple and sophisticated. I'm not a casual show watching person, but this was entertaining. It subtly brings out some real problems, infused with humor. The best part was it showed people for who they are. Content with whatever they have, living simple, easy-going lives.\\n\\nFor people who've liked Swades and Lagaan in the past, this is a unique take on a similar theme, and a must watch.\"],\n",
       "             'created': [1587009615.0,\n",
       "              1587351040.0,\n",
       "              1587308004.0,\n",
       "              1587301560.0,\n",
       "              1587337801.0,\n",
       "              1587344922.0,\n",
       "              1587307403.0,\n",
       "              1587323815.0,\n",
       "              1587311441.0,\n",
       "              1587334304.0],\n",
       "             'comments': [' ###[Covid-19 Fundraisers & Donation Links](https://amnesty.org.in/support-indias-most-vulnerable-fight-covid-19-a-list-of-fundraisers-you-can-donate-to/) via Amnesty International\\n* [This link covers](https://amnesty.org.in/support-indias-most-vulnerable-fight-covid-19-a-list-of-fundraisers-you-can-donate-to/) Migrant Workers Day-Labourers, Other Vulnerable Groups, Urban Poor, Transgender Community, Waste-pickers and Sanitation Workers, Healthcare Workers and Doctors, Older Persons & Children and Animal Care \\n\\n------------------------------------------------------------------------------------------------------\\n\\n**I am looking for volunteers** who are willing to create and update their state level threads for the time of lockdown. Updates will mostly consist of latest news in those states with respect to Coronavirus and ongoing lockdown.\\n\\n#####Require Volunteers for following States\\n* Uttar Pradesh | Jammu & Kashmir and Ladakh | Sikkim | Manipur | Mizoram | Assam | Meghalaya | Tripura | Arunachal Pradesh | Jharkhand | Goa | Chattisgarh | Haryana | Himachal Pradesh | Nagaland | Andhra Pradesh\\n\\n*Please reply under this comment with the states you can update daily. Daily update will be a responsibility, so please only volunteer if you think you will have time to maintain it in coming weeks. Thanks.*\\n\\n----\\n\\nOlder Threads: [Part 1](https://www.reddit.com/r/india/comments/f2kaxr/covid19_megathread_news_and_updates/) | [Part 2](https://www.reddit.com/r/india/comments/fkttm7/coronavirus_covid19_megathread_news_and_updates_ii/) | [Part 3](https://www.reddit.com/r/india/comments/fqqdsg/coronavirus_covid19_megathread_news_and_updates_3/) Uddhav has just said that Maharashtra has done 66800 tests, 95% are negative, out of the positive patients 70% are asymptomatic, 52 patients are critical. He also admitted there is a shortage of PPEs. > Karnataka govt has cracked the Nanjungud Pharma Covid19 mystery. The first patient who tested positive had visited China and came in contact Chinese. Till now govt suspected consignment coming in from China to the Pharma company. \\n\\n> Over 40 positive in Mysore due to Pharma Company.\\n\\n\\nhttps://mobile.twitter.com/nagarjund/status/1250667659131342853 Angela Merkel explains effect of higher infection rate on a country’s health system so effectively in a minute.\\n\\nhttps://twitter.com/BenjAlvarez1/status/1250563198081740800?s=20\\n\\nA lesser known fact is that she holds a PhD in Quantum Chemistry. Would someone please explain what happened to Gujarat? They have suddenly reported 173 cases since the morning. Are they reporting yesterday\\'s numbers late? ~5600 tests conducted in TN today, out of which 49 are positive. All in the current containment areas. 82 have recovered. No deaths. 4, out of the total ~1000 active cases, are currently getting treatment while all the others are asymptomatic and healthy. Rapid testing kits (Antibody kits) have been distributed to most districts and are now operational. TN currently has 36,000 rapid kits (24,000 ordered directly by the state and 12,000 given by the center) and 1,95,000 PCR kits. It has 2 automated testing machines. Current mortality rate in TN is 1.1%. ICMR\\'s current guidelines are to test those with ILI (influenza like illnesses), SARI (severe acute respiratory illnesses) and any essential workers with symptoms.\\n\\nFor those who are positive, they are checking oxygen saturation multiple times to see if they\\'re having asymptotic hypoxia. They are also taking CT scans and chest X-rays. A person is discharged only if they get 2 consecutive negative tests.\\n\\nOne of the best press conferences I\\'ve seen. Good questions and sensible, scientific and direct answers. Maharashtra housing department has issued instructions to landlords to postpone rent collection by three months. During this time, no tenant will be evicted from their home for non payment of rent says the chief minister. \\n\\nhttps://twitter.com/CMOMaharashtra/status/1251106538501992448 Regarding Hiranandani hospital charding almost 50% more than the stipulated COVID test fee, under the pretence of handling charges and shit... \\n\\nUK people have created this site that tracks what companies are doing during this humanitarian crisis, whether they are running ethically or whether they are milking the situation just for themselves\\n\\nhttp://www.whencovidisover.co.uk/\\n\\nAfter covid19india.org has been a great success, we can create a similar crowd sourced site to track what Indian companies are doing, who deserves the hall of shame and who is carrying the torch for mankind during this dark hour. what is the endgame here ? cases are still increasing, social distancing is not being followed and there are plans to get people back to work soon which is sure to cause another wave [Oxford researchers\\' vaccine gives hope against coronavirus. Oxford scientists say their ChAdOx1 vaccine will be available by September. They say they\\'re working with different groups and philanthropists to make sure it\\'s available in places where it\\'s needed the most.](https://www.indiatoday.in/science/story/coronavirus-vaccine-chadox1-university-of-oxford-1668272-2020-04-18)\\n\\n> Prof Gilbert said her team had been working on a Disease X, a name \"given to an unknown disease which was going to come and cause a pandemic in future, and we needed to plan for it.”\\n\\n>\"With ChAdOx1 technology, already 12 clinical trials have been conducted against different diseases; we consistently see a very good vaccine safety and very strong immune response with single dose, while some other vaccine technologies such as RNA and DNA need two or more.\"\\n\\n>The Oxford team is so confident about its vaccine that it has already started manufacturing it, even before the clinical trials. ACP of Ludhiana (North region) died of corona. He was obese, which might have contributed. \\n\\nAfaik, he was just 52.\\n\\nSource: https://twitter.com/TimesNow/status/1251440581361852417?s=19 Hello redditors, the conditon is very bad in my medical college (MAMC)\\'s hospital which is converted into dedicated Coronavirus Hosptial. Please read this from resident doctor association (Senior doctor) http://www.facebook.com/story.php?story_fbid=103480961338823&id=100600274960225&scmts=scwspsdd&extid=ouGvUCOkZsqXdDxE Flipkart has started delivering some \"non essential\\' items like electronics, stationeries etc.   Edit: i live in the kdmc region of maharashtra. We have upwards of 60 cases and our district has been declared as a red zone. I don\\'t know how and why flipkart is delivering here. [Supply of non-essential goods by e-commerce companies to remain prohibited during lockdown: MHA](https://www.moneycontrol.com/news/business/supply-of-non-essential-goods-by-e-commerce-companies-to-remain-prohibited-during-lockdown-mha-5163701.html/amp) **Testing guidelines are revised in Mumbai. No more testing for asymptomatic high risk contacts.** \\n\\n[Source](https://twitter.com/ChaiMIRROR/status/1250650302690156544?s=19) [“The ministry of civil aviation clarifies that so far no decision has been taken to open domestic or international operations. Airlines are advised to open their bookings only after a decision in this regard has been taken by the government.”](https://timesofindia.indiatimes.com/business/india-business/open-bookings-only-after-decision-on-resumption-of-flights-is-taken-govt-tells-airlines/articleshow/75226289.cms) The recovered : deceased ratio is around 5:1 now which is an improvement over 3:1 that it was a few days ago.\\n\\nOver recoveries are increasing rapidly and that\\'s great. Unfortunately we crossed 500 deaths and crossed 13k active cases. > Mobile phones, televisions, refrigerators, laptops and stationary items will be allowed to be sold through e-commerce platforms like Amazon, Flipkart and Snapdeal from April 20 during lockdown: Officials\\n\\n- https://twitter.com/PTI_News/status/1250722174647693313 [Karnataka scales up COVID-19 tests 5 times to 1,500 per day](https://bangaloremirror.indiatimes.com/bangalore/others/karnataka-scales-up-covid-19-tests-5-times-to-1500-per-day/articleshow/75197741.cms)\\n\\nKarnataka was testing only 300 a day if you go by this headline. Now it is 1500 a day. And they still don\\'t have the rapid testing kits, but they plan on reopening on Monday. Maharashtra did 4673 tests in the last 24 hours. 286 people tested positive from that. Cumulative total of tests done  in 56673.\\n\\nhttps://twitter.com/SachinKalbag/status/1250997543061696512 If you have a minute, please check out our COVID-19 effort at [covidindiasupport.com](https://covidindiasupport.com) \\n\\nAlso, if any of you are good with Cloudflare settings and can help us with a small task, please ping me? [‘Don’t Have Passport, Didn’t Go to China’: Mysuru’s Patient 52](https://www.thequint.com/news/india/i-have-no-passport-didnt-go-to-china-mysuru-pharmas-patient)  \\n\\n\\n>\\tRamesh’s mother-in-law adds that he still has faith in the police to investigate the case as soon as possible. “I have read so many theories. One person said my son-in-law went to China and another channel said he went to Kerala. This is not true,” she adds.\\n\\n>\\t“I have read many news articles that have blamed me for this. I read on one website that I went to China. My company has also issued a clarification. I honestly don’t know how I got it. I am not lying,” he adds. *Terrifying scenes from a MCD school in Delhi\\'s Jahangirpuri where food is being distributed since the lockdown. On Friday evening, there was a stampede. Young girls, kids, women seen falling down, as people rush in. SDM says, \"A rumour about food getting over caused this.\"*\\n\\nhttps://twitter.com/NandyAsmita/status/1251769296046428160 __Coronavirus: Africa could be next epicentre, WHO warns - BBC News__\\n\\n> There was a sharp rise in cases in the past week.\\n\\n> There have been almost 1,000 deaths and more than 18,000 infections across Africa so far, although these rates are far lower than those seen in parts of Europe and the US.\\n\\n[Source](https://www.bbc.co.uk/news/world-africa-52323375) > Jail warden of Bhondsi Jail tests positive for #COVID19 after returning from his home in Bhiwani. He was tested positive before he joined duty and no one at the Jail came in contact with him: Chief Medical Officer Gurugram, Haryana\\n\\n- https://twitter.com/ANI/status/1251770162585444361 With reinfection reports coming in from South Korea assuming they are not because of false negatives and actually contracting the virus again question arises - will a vaccine be effective? If a body having repelled the fully blown virus once having produced enough antibodies can contract it again, how will a vaccine ensure the body is safe? #CLINICAL HOPE\\n\\nUniversity of Chicago Medicine researchers said they saw “rapid recoveries” in 125 COVID-19 patients taking Gilead Sciences Inc.’s experimental drug remdesivir as part of a clinical trial\\n\\nhttps://www.marketwatch.com/story/rapid-recovery-seen-in-coronavirus-patients-taking-gilead-drug-according-to-a-report-2020-04-16?mod=home-page Ah man why aren\\'t the cases decreasing :( As per local Tamil news channel, TN govt. has opened 500 test centers in Chennai, where ANYONE with symptoms for corona can get tested. This is after reports that, rapid test kits from China has been received in Chennai today. \\n\\nAlso, it was reported that these rapid test kits have been dispatched to various states from Chennai.\\n\\nIn one or two days, we will start getting information regarding community transmission in various places. 1370 :( \\n\\nEveryday morale drops further and further down ! [An Overlooked, Possibly Fatal Coronavirus Crisis: A Dire Need for Kidney Dialysis | Ventilators aren’t the only machines in intensive care units that are in short supply. Doctors have been confronting an unexpected rise in patients with failing kidneys.](https://www.nytimes.com/2020/04/18/health/kidney-dialysis-coronavirus.html)\\n\\n> Kidney specialists now estimate that 20 percent to 40 percent of I.C.U. patients with the coronavirus suffered kidney failure and needed emergency dialysis, according to Dr. Alan Kliger, a nephrologist at Yale University School of Medicine who is co-chairman of a Covid-19 response team for the American Society of Nephrology. Did the government\\'s change its guidelines about testing? How did they find so many asymptomatic cases? Look at those fooking chads in Kerala flexing. Just 1 new case. Only 2 Total deaths. I have been following the number of cases since February, when the numbers were like 60,000 total. I had such fear and even a slight increase would get me worried, would check it multiple times a day. \\n\\n\\nJust saw that 2200 people died in USA today and I wasn\\'t particularly concerned.  I keep reminding myself that those are actually people dead and not just numbers but I think my brain is not able to comprehend such huge numbers. Have I  become desensitized or dehumanized? \\n\\n\\nI also don\\'t care about masks and sanitising my hands anymore. Only got out of bed for food and  essentials this past week and I don\\'t want this lockdown to be over, I don\\'t want to get out of bed. 165 new cases in Maharashtra. 107 in Mumbai and 19 in Pune out of the 165 cases. Maharashtra tested 5740 samples yesterday. Total number of samples tested is 50882.\\n\\nhttps://twitter.com/ss_suryawanshi/status/1250679796264128514\\n\\nhttps://drive.google.com/file/d/1_fcmD_VZi-5vu4skjWC-KscmiFtmAkNc/view When will stage 3 declared in India? Or India has avoided stage 3 as we are opening economic activity? What\\'s criteria for stage 3 ? 328 new cases, 11 new deaths and 34 new recoveries in last 24 hours in Maharashtra. Total cases is 3648, deaths 211 and recoveries 365. Tests done in last 24 hours in 5728. Total number of tests is 67468.\\n\\nhttps://twitter.com/SachinKalbag/status/1251529118174175233 not keeping up with the numbers anymore Flipkart is taking orders for trimmers. For all my brothers who have been forced to grow beards and hair \\n\\nhttps://www.flipkart.com/health-personal-care-appliances/~cs-jueulbws3f/pr?sid=zlw&collection-tab-name=Top+20+Trimmers&pageUID=1587266746189\\n\\nEdit : Our great and forever right govt has again changed their decision and stopped sale of non essentials. So don\\'t bother going to the links ICMR numbers as per 9pm yesterday 16351\\nMohfw numbers as per 8 am today  15712\\nCovid19india.org as per yesterday    15723..\\nUsually, icmr numbers are a good 300-400 behind the ministry\\'s site and the covid tracker. This is making me wonder as to what happened yesterday. > # Three-day complete lockdown issued in Raipur\\n\\n> A complete lockdown has been issued in Raipur for three days, starting from 5 pm on 16 April to 5 pm on 19 April, said the District Relations Office. Vegetable markets and shops will remain shut and only emergency services will ply.\\n\\n> \"Only medical shops, milk booths, petrol pumps, LPG gas outlets and online home delivery services will remain open,\" said the District Relations Office.\\n\\n[Source](https://www.firstpost.com/health/coronavirus-outbreak-live-updates-covid-19-india-lockdown-extension-latest-news-today-delhi-maharashtra-8263901.html) \\n\\nWhat gives? I see only 5 cases in Raipur district. Is anyone else little worried that most things might see an increase in prices after all of this is over? Corporates will try to cover the losses. For example, flight tickets. Was this covered here before?\\n\\n[British Medical Journal - 2nd April 2020](https://www.bmj.com/content/369/bmj.m1375)\\n\\n> *Covid-19: four fifths of cases are asymptomatic, China figures indicate*\\n\\n> *New evidence has emerged from China indicating that the large majority of coronavirus infections do not result in symptoms.*\\n\\n> *Chinese authorities began publishing daily figures on 1 April on the number of new coronavirus cases that are asymptomatic...*\\n\\n> *...Many experts believe that unnoticed, asymptomatic cases of coronavirus infection could be an important source of contagion.* What happens when after relaxing rules after 20th a city starts registering cases. Then do the relaxation gets withdrawn from that place alone or all the places as a precaution. \\nState like Kerala, Rajasthan, Maharashtra & Delhi did more testing then other states and which has resulted in more cases and now we are observing lesser cases in these states.\\nLike Kerala everyone can see that recovered patient are more than active cases and in other 3 places the cases has started to drop.\\nWhat do you think is this something to be cheerful about or not. >  April 17, Karnataka reports 38 new coronavirus cases. Total cases now 353. Biggest single day increase in cases again. \\n\\n[https://twitter.com/prajwalmanipal/status/1251043875344416768](https://twitter.com/prajwalmanipal/status/1251043875344416768) \\n\\n&#x200B;\\n\\nThink this is the fourth day of an increase in cases in Karnataka. Worrying. Police presence has been reduced in upper Mumbai suburbs due to low number of cases.\\n\\nToday, an old lady who lives in my society requested me to drive her to the hospital. The doctor called and said the hospital will provide documentations to make sure the police doesn\\'t stop us. I drove her to the hospital with all proper permits. There was no police checkpoint for the entire 6 km journey. All I had seen were people buying groceries/medicines from local stores and pharmacies and Swiggy/Zomato delivery guys. Nobody stopped me to check any documents.\\n\\nIt\\'s possible that the police force has been shifted to the southern parts of the city where cases are extremely high. According to [this map](https://twitter.com/mybmc/status/1250717439823802372/photo/1) from the municipality (they upload these everyday), there have been no cases in almost the last entire week in my locality and only a slight increase in the whole of April. 77 new cases, 5 new deaths and 37 recoveries in Mumbai today.\\n\\nhttps://twitter.com/ss_suryawanshi/status/1251142360374759426/photo/1 https://twitter.com/ANI/status/1251754667714973696?s=19\\n\\nSupply of non essentials by eCommerce companies to be prohibited during the lockdown. > **20 new \\\\#Coronavirus positive cases reported in Dharavi of Mumbai. The total number of positive cases in the area increases to 138 (including 11 deaths): Brihanmumbai Municipal Corporation (BMC)**\\n\\n[Source](https://twitter.com/ANI/status/1251867858847629318?s=19) Telangana Chief minister just announced\\n\\n* Lockdown till 7 th May\\n* No restrictions lifted anywhere\\n* Food and e-commerce delivery banned till May 7th How can MP only report 5 cases today? Did they not test? A family in my society hid a mechanic in their car for AC repair. Escaped security but got caught eventually.\\n\\nThe society WhatsApp group has gone berserk. While you\\'re buying surgical masks, properly check them . I bought a pack of 50 yesterday off Amazon and there was no meltblown filter in them. The masks are fake and you handkerchief is far better than what they sold me. I made a video about identifying them so watch if you want to.\\n\\nMy english a little bad so please don\\'t be rude in comments.\\n\\nhttps://youtu.be/HaSSu0qQq8Y (In English)\\n\\nhttps://youtu.be/Xu6ksDSRodg ( In Hindi) With each day of lockdown, people are getting less and less patient. And our positive cases are going up everyday. Government will find it very difficult to extend lockdown after this. We are fucked either way. Guys how long is this gonna last? I have my CA Final exam scheduled on 19th June.... [deleted] My college will conduct the semester exams from 20th may after the orders of the central university in MP (RGPV).\\nHow will this be possible since MP has the third highest no. of infections, 2nd most deaths. Especially looking at how quickly the cases are rising in Indore and Bhopal. How are the exams gonna be conducted then??? [+1,370]\\n\\nwtf 1101 cases in Ahmedabad so far, 239 reported today. 1743 cases in Gujarat so far. > **552 new Corona positive patients in Maharashtra. Total positive patients 4200.** \\n> \\n> **12 new deaths in Maharashtra.** \\n\\n[Source](https://twitter.com/abpmajhatv/status/1251890646404624385?s=19) #BREAKING NEWS\\n\\nCovid test: Indian scientists in Japan + IIT Roorkee devise cheap software to detect COVID-19\\n\\nhttps://timesofindia.indiatimes.com/india/indian-scientists-devise-low-cost-ai-based-software-to-detect-covid-19/articleshow/75187192.cms\\n\\n---\\n\\n- an AI based software\\n- only needs X-ray images. No swab, no contact\\n- very fast: 100 images in 3.63 seconds.\\n- very accurate. Can also detect false symptoms like pneumonia [https://www.medrxiv.org/content/10.1101/2020.04.14.20062463v1.full.pdf](https://www.medrxiv.org/content/10.1101/2020.04.14.20062463v1.full.pdf)\\n\\n \\\\>The population prevalence of SARS-CoV-2antibodies in Santa Clara County implies that the infection is much more widespread than indicated by the number of confirmed cases. \\n\\n\\\\> 50-85-fold more than the number of confirmed cases \\n\\nThis is in a county with much higher testing rates than India. Will ac repair be allowed in Mumbai after 20th?\\n\\n\\nEdit : dear God guys a simple question and I\\'m being downvoted 👍😂 heat is scorching and I have a wife who is pregnant and has anxiety issues but yeah sure downvote me for a query. Dear lord any financial package announcements so far for aam aadmi except the bogus moratorium and zero-balance SBI account ? 1341 cases in Madhya Pradesh. 842 in Indore. Total death count in state is 61. Maharashtra had 118 new cases today, 7 new deaths, and 31 new recoveries. Also total tests now is 61740. About 6000 tests today.\\n\\nhttps://twitter.com/rajeshtope11/status/1251194987473186821?s=19\\n\\nhttps://twitter.com/news24tvchannel/status/1251194780807303169?s=19\\n\\nhttps://twitter.com/ss_suryawanshi/status/1251196029640282112?s=19 49 new cases in Tamil Nadu and 82 recoveries! Women got surprise call from AP police chief.\\n\\nhttps://youtu.be/WBmNEmw4Jno 552 new cases in maharashtra. 12 new deaths. 142 recoveries. Total positive cases is 4200, deaths 223, recoveries 507. Total samples tested is 72023.\\n\\nhttps://twitter.com/Sanket_News24/status/1251889493252231171?s=19\\n\\nhttps://twitter.com/mayankbhagwat/status/1251889812942008320?s=19\\n\\nhttps://twitter.com/mayankbhagwat/status/1251891576395235328?s=19 \\n\\nCovid-19 positive woman spends 30 hours in KEM  parking lot waiting. \\n\\n\\n\\n> An old woman Mumbai Mirror reporters stumbled upon in KEM’s parking lot is a classic Covid-19 emergency – she is 66, has a history of heart trouble and is running fever. But forget being given the urgent attention she needed, she was not even attended to and banished to the parking lot. The 30 hours she spent in KEM waiting for a bed included a drive to SevenHills Hospital, where, on arrival, she was told there was no space available.\\n\\n> She was finally admitted to St George’s Hospital late on Wednesday night.\\n\\n> And that is not all. Her 36-year-old son, who should have been isolated as soon as the woman tested positive, ended up running around to get her medical attention she so urgently needed. \\n\\n\\nhttps://mumbaimirror.indiatimes.com/coronavirus/news/covid-19-ve-woman-spends-30-hrs-in-kem-parking-lot-waiting/amp_articleshow/75171215.cms Stage 2.999999999 club baby! In other news, the twitter account of Human Rights Activist Rangoli Chandel has been suspended Slightly off topic perhaps but I was reading up on South Korea on wikipedia and learnt that 56% of their population is irreligious. Then I looked up the countries with the highest % of population being irreligious and found that almost all of them have managed to fight the coronavirus effectively (the top 6 countries being Czech Republic/Estonia/Vietnam/Denmark/Netherlands/South Korea). Probably the lack of religious gathering and a competent government is the reason for their success Maharashtra home minister said action would be taken against timesnow for spreading fake news about minister Jitendra Awhad\\'s daughter testing positive. High time someone took action against these channels. \\n\\nhttps://www.thehindu.com/news/cities/mumbai/coronavirus-maharashtra-home-minister-anil-deshmukh-plans-action-against-tv-channel-for-fake-news/article31352737.ece  [https://www.financialexpress.com/industry/coronavirus-lockdown-amazon-seeks-clarification-on-govt-guidelines/1929767/](https://www.financialexpress.com/industry/coronavirus-lockdown-amazon-seeks-clarification-on-govt-guidelines/1929767/) \\n\\n&#x200B;\\n\\n> Amazon India has sought clarification from the government of the implementation of the guidelines issued by the Ministry of Home Affairs on Wednesday. +423 recoveries today! Nice!! Realistically speaking, do we expect things to go back to normal by June? Has any major company (except airlines) laid off people or given such Signals?\\n\\nAll industries except pharma and fmcg will be under stress. 56 new cases in Tamil Nadu. Why so many cases from Gujarat? So, the global death:cases ratio is  6.87%.\\n\\n\\nUSA is at 5.2%.\\n\\nItaly is at 13.3%.\\n\\nSpain is at 10.5%.\\n\\nFrance is at 12%.\\n\\nGermany is at 3.1%.\\n\\nUK is at 13.3%.\\n\\n**India is at 3.3%.**\\n\\nETA: Thanks for pointing out my mistake in the global figure u/benrogers888.  [https://www.covid19india.org/](https://www.covid19india.org/)  reports 1414 cases today!\\n\\n&#x200B;\\n\\nWe gonna breach 1500 ! https://www.businessinsider.in/india/news/72-south-delhi-families-told-to-self-quarantine-after-pizza-delivery-boy-tests-positive/articleshow/75172558.cms\\n\\nPizza delivery boy tests positive, 72 families asked to quarantine themselves [Delhi Man Dies Of COVID-19, Guard Blamed For Infection Tests Negative](https://www.ndtv.com/india-news/delhi-defence-colony-coronavirus-security-guard-accused-of-infecting-3-of-delhi-family-covid-19-nega-2213025?pfrom=home-topscroll)\\n\\n\\nMore from tweets:\\n\\n>The Muslim guard was accused of hiding Jamaati links. The family had broken lockdown rules by not giving him leave. They\\'d had returned from abroad in Feb/March. Karnataka: People in large numbers today participated in a religious festival in Chitapur, Kalaburagi district, amid lockdown to contain COVId19 transmission \\n\\n\\nhttps://twitter.com/ANI/status/1250799673377533953?s=19 Gujarat seems worst hit The testing numbers are abysmally low in West Bengal. Considering that they are the fourth most populous state in the country they should test more people, states with half of their population like Odisha and Chattisgarh have tested more.\\n\\nEdit: spelling > As of today, 42 police / CAPF personnel have tested covid19 positive and more than 350 are on isolation / home quarantine.  Take care, for your own safety and the safety of others: Keep distance; wear face masks; follow hand hygiene.\\n\\n[Indian Police Foundation\\n](https://twitter.com/IPF_ORG/status/1250644301932978177), India’s premier independent think tank on policing. Gujarat morning press conference - 228 new cases, 5 deaths since last press conference yesterday evening till 11 am today.. Mortality rate in Maharashtra has reduced, its lower than the average across the world, but still higher than that of India.\\n\\nhttps://twitter.com/ss_suryawanshi/status/1251757388912304129 I just asked myself Sunday hain kya Monday. The whole concept of time has changed of late. [Delhi Pizza Delivery Agent Tests COVID-19 +ve, 72 Families Quarantined](https://www.ndtv.com/india-news/coronavirus-pizza-delivery-agent-tests-positive-in-delhi-72-families-he-delivered-food-to-quarantine-2212652?telegrampush=true) TN is slowing down, similar to Kerala last week. Let\\'s hope this trend continues. Currency notes found on road in MP.\\n\\nBc kisi ne liye nai police bulai phele.\\nDarr dekh rahe ho logo mai. \\n\\nhttps://twitter.com/ndtv/status/1250798645768646657?s=19 what if corona virus patients keep coming till end of Lockdown ? >Recovered COVID-19 patient tests positive again, active cases in Himachal Pradesh now 23: Officials\\n\\nhttps://twitter.com/PTI_News/status/1251582512180031488?s=19 Only 6 cases from Karnataka today. 0 from Bangalore. Tests done : 2180 > Coronavirus droplets may travel further than personal distancing guidelines, study finds \\n\\n\\n- [SCMP](https://www.scmp.com/news/china/society/article/3080177/coronavirus-droplets-may-travel-further-personal-distancing) Did Delhi test MP\\'s Samples today too? How many tests Tamil Nadu did in last 24 hours? [Gujarat institute identifies 3 new mutations of novel coronavirus] (https://www.deccanherald.com/national/gujarat-institute-identifies-3-new-mutations-of-novel-coronavirus-826517.html) [deleted] I\\'m not sure if it all already posted here... but I\\'m sharing just in case: [Tamil Nadu government\\'s COVID19 dashboard](https://nhmtn.maps.arcgis.com/apps/opsdashboard/index.html#/095ad0a1c0254b058fa36b32d1ab1977)\\n\\nEdit: The link is available in the TN health ministry\\'s official website (top left):https://stopcorona.tn.gov.in/ What\\'s up with the sudden surge in Gujarat these past couple of days? ICMR 9pm update\\n\\nTotal positive: 17615(+1135)\\n\\n\\nhttps://icmr.nic.in/sites/default/files/whats_new/ICMR_testing_update_19April_9PM_IST.pdf Today 2 more cases were reported from Dakshina Kannada, Karnataka. One was wife of patient from Uppinangadi discussed in [my comment](https://www.reddit.com/r/india/comments/g1zi21/coronavirus_covid19_megathread_news_and_updates_4/fno56ww?utm_source=share&utm_medium=web2x) two days ago.  She was reported positive today. \\n\\nSecond one was heartbreaking. [A 45 year old lady from Bantwal](https://www.daijiworld.com/news/newsDisplay.aspx?newsID=698591). She had been admitted yesterday night to district hospital and passed away today morning.  Her son had a travel history from Dubai on March 16th. He had completed his home quarantine. This was a total shocker as patient probably self medicated and hid the symptoms. She was also known to have asthma. I think when it was too much to tolerate she was taken to local doctor who advised them to go to the district hospital after suspecting the case. Only after death today, she was declared positive. Now her entire family and neighbours are being tested as well. Even the local Doctor is under quarantine. Entire neighborhood has been sealed down to radius of about 100m and entire town of about 5000 people is under close watch from authorities. Various members of her family may have interacted with atleast 50-100 people. Her husband is a cable operator i heard. \\n\\nThis case has caught everyone off guard. Many had thought that international travellers and their kin are safe at this point after their mandatory 14 days home quarantine. Also the local administration boasted of keeping a close watch on all international travellers after the end of their quarantine period.\\n\\nMind you, all these new cases are being reported after 12 continuous days of no cases in the district. Its too early to say but there is some pattern indicating that virus incubation period is around 24-30 days for local conditions. Previously the incubation period was thought to be around 14 days where maximum patients would develop symptoms.\\n\\nI feel all the international travellers needs to be retested several times along with their kin. All the previous assumptions are being tossed out of window each day. 7 new cases in Kerala today. 5 are from abroad (man, even after 21 days of lockdown, how the fuck!). 27 people have been discharged. 147 in hospitals. 107 new patients in Mumbai, 3 new deaths and 21 more recoveries. There is a change in testing protocol where asymptomatic people wont be tested right away, rather put in quarantine/isolation and then be tested around the 7th day, so that\\'s why the new case count is lower. But the death count has been brought under control based on the last two days.\\n\\nhttps://twitter.com/ss_suryawanshi/status/1250772231896084480/photo/1 MP & Rajasthan look like they are in serious trouble. https://www.indiatoday.in/news-analysis/story/coronavirus-outbreak-being-maharashtra-cm-becomes-fresh-headache-for-uddhav-1665422-2020-04-10\\n\\nJust saw this post on the Maharashtra CM\\'s post currently being subject to an election that has been deferred. His post now subject to appointment basef on a governor\\'s quota who is a BJP guy \\n\\nWell its appears we are due for another Modi-Shah masterstroke in Maharashtra in the midst of a pandemic. Just like MP... That went stellar, right? >ICMR sources to @ndtv :\\nBig spike recorded in UP and Gujarat today.\\n#Covid_19 positive cases in Gujarat have risen to 1,503 cases and in UP cases have risen to 1,417 as on April 18.\\n\\nhttps://twitter.com/arvindgunasekar/status/1251560609432420355?s=19\\n\\nThat\\'s a huge spike. Wonder what happened? Organizations themselves are in doubt when and where to open its branches after 20. This is due to vague instructions from government. Mark my words, it will be chaos on 20th. >He is building a 20,000 cr vanity project for himself- from taxpayer money - while saying he can\\'t test and treat us for free.\\n\\n\\\\#CentralVista\\n\\nhttps://twitter.com/VidyaKrishnan/status/1251813343163068416?s=19 [A daily comprehensive report prepared by MEDD, Maharashtra showing COVID-19 situation in the state. (April 16, 2020. 10:00 IST) ](https://twitter.com/Maha_MEDD/status/1250659519840968704?s=19)\\n\\n**According to this report about 80% patients are asymptomatic.** 1200 kinda day with Delhi numbers still to come. Yesterday was less because delhi just tested 326 individuals. Do you think situation will normalise from 20th April? People are losing enthusiasm. With airlines opening their bookings up situation seems getting better or is it India is being too optimistic and the government is keeping us at dark? >  A person, who had earlier recovered from the novel coronavirus, tested positive for the infection again on Saturday, taking the number of active cases in Himachal Pradesh to 23, officials said. \\n\\n[https://www.ndtv.com/india-news/himachal-pradesh-man-who-recovered-from-covid-19-test-positive-again-2214296](https://www.ndtv.com/india-news/himachal-pradesh-man-who-recovered-from-covid-19-test-positive-again-2214296) How come Tamil Nadu reported its figures in the first half of the day? Are we getting another report? 27256 tests today..\\n\\n\\nhttps://icmr.nic.in/sites/default/files/whats_new/ICMR_testing_update_16April_9PM_IST.pdf Is it confirmed that Bangalore will not allow movement of 2-wheelrs or public transport to open IT offices ?  \\nI don\\'t have a personal vehicle,so traveling 45 mins everyday on public bus scares me. Out of 736 tests done yesterday in Delhi, 186 of them turned out to be positive!! Scary stuff :(\\n\\nhttps://www.facebook.com/530767340283701/posts/3555303457830059/ It is in the news that all IT companies have started in Bangalore with 30-50% capacity. Is anyone\\'s company from here started? What\\'s the precautions taken. What are the chances that lockdown will extend after may 3rd? Today our Dakshina Kannada district of Karnataka reported a new case after 12 days of no positive cases. Imagine the heartbreak as most of us had thought if we could make it safely to April 20 without new cases we could have some relaxation from lockdown. \\n\\nThe guy had travel history to Delhi\\'s Tablighi Markaz event. \\n\\nAnyway what is shocking about this case is that he may have returned to his hometown of Uppinangady well before national lockdown (on March 24). Remember Karnataka had already restrictions in place atleast a week before. \\n\\nAs soon as the news of Tablighi incident exploded, this patient was traced and was under quarantine from atleast April 1st. \\n\\nSo April 1st to April 17th (17 days in quarantine), and about a week before he was traced leads to 21-25 days to confirm whether a patient is positive. Its truely scary. His reports from 1st test had come negative in 1st week of April, and he was confirmed positive only after 2nd test. [Source](https://www.daijiworld.com/news/newsDisplay.aspx?newsID=697714)\\n\\nHe also may have taken part in atleast 1 friday prayer gathering with atleast 50-100 people. I\\'m not sure if they are under quarantine. \\n\\nAlso one more positive patient from Ullal area had also participated in friday prayers before he was quarantined. And about 200 people were tested and their results are awaited. [Source](https://www.daijiworld.com/news/newsDisplay.aspx?newsID=696777)\\n\\nIts not fair to blame them. They themselves may have not known that they are infected. But they may have spread the virus far and beyond unknowingly.\\n\\nWhat worries me is that long incubation period of virus and we are needing multiple tests to confirm people are positive. There are even reports of positive patients reported even after 28 days. [Source](https://www.daijiworld.com/news/newsDisplay.aspx?newsID=697164)\\n\\nThere was also a strange case in nearby Udupi district where symptoms were reappearing. [Source](https://www.daijiworld.com/news/newsDisplay.aspx?newsID=696725)\\n\\nAt this point, its high time we acknowledge there is community transmission. \\n\\nI\\'m not really sure how this is going to end. Virus seems to be unpredictable. Nobody is probably safe until a vaccine is discovered. I\\'m in banaglore, my compnay is quite excited to re-open the offices. Currently they are planning the process and most likley will rotate the work-force.  \\nI still think this is way too early to resume normal services and only if your work is hampered by working from home, only those should go to office.  \\nALso I don\\'t have a personal vehicle. https://www.ndtv.com/world-news/coronavirus-updates-who-after-china-revises-covid-19-deaths-all-countries-will-face-this-2213847\\n\\nWHO is still hellbent on defending China, it seems. The [data](https://imgur.com/86ay2kJ) shows that in Kerala, people arriving from abroad have tested positive 26 days after they arrived.\\n\\n[Imgur](https://imgur.com/86ay2kJ)\\n\\nSource: [Report](https://www.thehindu.com/data/data-kerala-flattens-the-coronavirus-curve-but-must-remain-vigil-as-import-cases-still-dominate/article31351146.ece) from the Hindu 245 crores in total have been donated to Maharashtra chief minister\\'s relief fund.\\n\\nhttps://twitter.com/ss_suryawanshi/status/1250787319004622849 https://www.rnz.co.nz/news/national/414487/covid-19-update-number-of-new-cases-drops-to-eight-but-two-new-deaths\\n\\nLook at this! Only 8 cases after a 3 week lockdown in New Zealand. Now thats effective stuff. >India has high number of asymptomatic #coronavirus cases which underlines the importance of increased testing and isolation of patients, say experts\\n\\nhttps://twitter.com/htTweets/status/1251872936299884544?s=19 So here is an update from my friend whose office colleague is admitted in Kasturba hospital as he  has corona.He said that he is better now but things around him are really bad he has been waiting for second test since a week and he is feeling much much better but the hospital is really in a bad shape people waiting for a bed to get empty only 2 meals a day that too not hygienic  35-40 people in a single room with a single bathroom be safe guys. So news channels have openly started talking about coronavirus being a bio weapon gone wrong which is a perfect scenario for whatsapp unkills sharing ludicrous forwards Valentis Cancer Hospital in Meerut puts Ad saying it will not treat Muslim patients, UP police starts probe\\n\\nhttps://newsd.in/meerut-hospital-puts-ad-saying-it-will-not-treat-muslim-patients-up-police-launches-probe/ > Tens of thousands of #PPE kits fail quality tests. Kits made in China, the world’s main supplier,that were donated to the Indian govt, cannot be used. Of 170,000 PPE kits that arrived on Apr 5, abt 50,000 failed.\\n\\nhttps://mobile.twitter.com/Teensthack/status/1250628266664157184 Please note Maharashtra is +328 AFTER they restricted their testing criteria. https://www.reuters.com/article/us-health-coronavirus-children-un-idUSKBN21Y2X7\\n\\n\\nIndia has lakhs of deaths every year in kids under age 5 due to malnutrition. That number will increase multiple fold due to the emerging economic crisis.\\n\\nBut those deaths will not even be considered or attributed to the current government decision to lock down the economy. Goa just smashed Covid out of the park, all their positive patients are now negative. What did they do right? Seems like a state which gets so many international/ national tourists had only a total of 7 positive cases. They are going to resume services from tomorrow but will follow social distancing norms. Ramadan begins next week even as the coronavirus pandemic upends life around the world. The crisis is forcing Muslims to rethink traditions and find new approaches to one of Islam\\'s most important religious rituals.\\n\\nhttps://www.dw.com/en/ramadan-in-coronavirus-times-with-a-virtual-community/a-53147516?maca=en-rss-en-world-4025-xml-atom China dispatches 650,000 medical kits to India to fight Covid-19: Indian envoy\\n\\nhttps://timesofindia.indiatimes.com/india/china-dispatches-650000-medical-kits-to-india-to-fight-covid-19-indian-envoy/articleshow/75174037.cms > Madhya Pradesh #Covid_19 tally crosses 1000 mark, including 707 cases from Indore.  \\n\\n> Total Positive: 1101  \\n> Active: 984  \\n> Deaths: 53  \\n\\n\\nhttps://mobile.twitter.com/NewIndianXpress/status/1250699334816952321 __Delhi Corona Update: 72 south Delhi families told to self-quarantine after pizza delivery boy tests positive | Delhi News - Times of India__\\n\\n> Families in 72 houses in a locality in Delhi\\'s South District have been told to observe self-quarantine after a delivery boy associated with a famous pizza chain tested positive for Covid-19, a District Magistrate of South Delhi said on Wednesday.\\n\\n[Source](https://timesofindia.indiatimes.com/city/delhi/72-south-delhi-families-told-to-self-quarantine-after-pizza-delivery-boy-tests-positive/articleshow/75174005.cms) Will wine shops open on 20th How do Gujaratis now feel about the 1 lakh people packed into a stadium on 24th Feb for Trump? Andman Nicobar - All 11 patients recovered.\\nGoa - 6 out of 7 recovered. Why is the Uttar Pradesh thread missing? any report of mortality - type of people dying in India?\\n\\nedit: found some info/opinion\\n\\nhttps://indianexpress.com/article/coronavirus/mumbai-coronavirus-covid-19-test-deaths-6363066/ [New MIT machine learning model shows relaxing quarantine rules will spike COVID-19 cases](https://techcrunch.com/2020/04/16/new-mit-machine-learning-model-shows-relaxing-quarantine-rules-will-spike-covid-19-cases/) Hi guys, i know this is a stupid question, but is it okay to use coolers in the home? Telangana Lockdown extended till 7th May. My fater in law is stuck in the UAE. The Indian Embassy have refused to let them come home. He\\'s recently retired and has been forced out of his government sponsored quarters.. He will run out of money soon with the rates Dubai hotels are charging him. Can someone please advise on what to do? Meanwhile in USA people are rushing to beaches in Florida. Florida has reported  over 1400 new cases yesterday. How can they be so dumb?\\n\\nhttps://www.newsweek.com/florida-beaches-florida-moron-twitter-1498750\\n\\nI fear this might happen in India too, not with beaches but in other areas after the lockdown is lifted. If USA cannot continue lockdown because of economic impact, we surely cannot continue lockdown after may 3rd. Do folks see india taking a big loan from IMF later this year or early part of next year? \\nReminder: Proving worst-case #Covid19 predictions wrong is a *good* thing. It means we did what was necessary to save lives.\\n\\nhttps://twitter.com/WIREDScience/status/1251510799933161472 India is the 17th most affected country in the world and has the lowest tests/million amongst these countries according to worldometer I have a feeling that very soon covid19 will slowly become part of us  and life will continue normal  just like how it has been with flu or dengue fever. Indore has the highest cases for a tier-2 city in India and by far. Total 586. 3rd highest in India after Delhi and Mumbai. More than the other 4 metros and other bigger tier two cities.\\n\\nSomeone should analyze how much of it was due to the thali banging procession that happened after PM\\'s speech and task. I\\'m sure if they put as much effort as they did for Tablighis, we\\'ll find a lot of skeletons. Why on earth this is called as Lockdown 2.0. It\\'s the same fucking lockdown. On what basis are we re opening the economy? Is the virus going to magically disappear or suddenly change the way how it transmits?\\n\\nCenteral government employees in ministries are currently working at 50% capacity and will be working at 100% capacity from Monday.\\n\\nThese are people coming in to center of Delhi from all around the Delhi metropolitan region. There are folks from across Yamuna, from Dwarka, some coming in from Gurgaon, some crossing Noida/Ghaziabad border and many coming from various parts of the city. \\n\\nAll these people from all across Delhi area are congregating in a single place, then going back to their respective areas every day. They\\'ll come in contact with their respective families and might spread it around to so many new areas if even a single person in office has this virus.\\n\\nPlease tell me how is that okay when Delhi, Gurgaon, Noida and Ghaziabad collectively have around 1900 active cases? Did the rules of virus transmission suddenly change just because they\\'re government employees?\\n\\nThis is absolutely retarded and nobody is talking about this.\\n\\nRelated :\\n\\n1. https://theprint.in/india/governance/bring-governance-back-on-track-within-100-days-of-resuming-work-pmo-tells-ministries/403073/?amp\\n\\n2. https://m.economictimes.com/news/economy/policy/govt-asks-all-deputy-secretaries-above-level-officers-to-join-offices/amp_articleshow/75156929.cms\\n\\n3. https://m.economictimes.com/news/economy/policy/council-of-ministers-to-resume-work-from-offices-on-monday/amp_articleshow/75098692.cms I\\'m scared. # active cases cross 11000\\n\\nNumber of positive COVID-19 cases in India: 13032 | Deaths: 436 | Active cases: 11044\\n\\nhttps://www.thehindu.com/data/article31041672.ece/inline/ Slow day today ? only 271 cases so far. If government screws up and say 1% of Indian population dies, would there be any consequence? Does anyone have any knowledge of inter district travel within the state, if we are going to a green zone from a red zone.\\nMy dad is posted as a govt employee in a green zone which has no confirmed positives as of yet. we were living there in a rented flat. Before the lockdown we came back to our hometown ( now a red zoned district with 24 positives)\\nHas anything been specified related to this in the ministry guidelines .\\nMy Dad\\'s office is shut off right now but it can open after the 20th. https://www.deccanherald.com/national/north-and-central/youth-cycles-850-km-for-wedding-amid-lockdown-lands-into-quarantine-827207.html https://twitter.com/pratyasharath/status/1251854942287081474?s=19\\n\\nInteresting initiative by Odisha to facilitate return of migrants. I particularly liked the idea of relatives pre registering with the Panchayats the names of those coming back so that they can be accommodated in the quarantine at the village level along with giving 2k to everyone for successfully completing the quarantine. __Over 270 Cases Registered, 3,370 People Detained by Delhi Police for Violating Lockdown on Sunday - News18__\\n\\n> New Delhi: Over 270 cases were lodged and 3,370 people detained in Delhi on Sunday for violating government orders during the lockdown, police said. \\n\\n> According to data shared by the police, 277 cases were registered under section 188 (for disobedience to order duly promulgated by public servant) of the Indian Penal Code (IPC) till 5 pm. \\n\\n[Source](https://www.news18.com/news/india/over-270-cases-registered-3370-people-detained-by-delhi-police-for-violating-lockdown-on-sunday-2584229.html) Is that it from Madhya Pradesh today?? 5 cases!? https://www.hindustantimes.com/india-news/bengal-to-start-rapid-antibody-tests-for-covid-19-infections-soon/story-nQBPxVBTTmbzIcO62iz8BJ.html Does anyone know what is the percentage of population tested so far in india? Gujarat has the second-highest death rate in the country. Kerala the lowest.\\n\\nPeople still want to compare the two models. There\\'s nothing to compare here. > Rawoor Villagers in #Kalaburgi district of #Karnataka defy lockdown and took part in a  (Siddhalingeswara) chariot festival for15-20 minutes. \\n\\n> Kalaburgi is one of the worst affected.  India\\'s first #Covid19India death was reported from this dist.\\n\\nFrom this [tweet](https://twitter.com/keypadguerilla/status/1250769818099134466?s=20). https://youtu.be/JIhNKZOHJ74\\n\\nThis is the video by BBC that was shared a lot here yesterday. Why exactly are city officals sending women with just a Dupatta around their mouth into the city slums when they fear there has been a breakout?\\n\\nMore over why are these workers working like this. They can see they have a person with them who is in full PPE,.. that should alert them about the risk they are taking [deleted] >**After a big difference in the #Covid_19 data btwn ICMR & MoHFW, Health Ministry has come up with a ‘note’ today; **\\nOur figures are being reconciled with ICMR.\\n\\n>Labs across the country enter data on ICMR portal,MoHFW takes data from ICMR.\\n“Our data is accurate” say ICMR officials  \\n\\nhttps://twitter.com/arvindgunasekar/status/1251865881803657216?s=19\\n\\nThe levels of ineptitude of this government is just mind boggling. [Patient movement maps: Kerala\\'s key weapon against COVID-19](https://www.thenewsminute.com/article/patient-movement-maps-keralas-key-weapon-against-covid-19-122717)\\n\\n>According to the epidemiologist in Pathanamthitta, “If we do not get these response calls from members of the public, we will not be able to detect if there is community spread, which happens when the source of the infection cannot be traced. We have managed to trace at least 85% of the primary and secondary contacts through the route map and have been monitoring them daily via the call centre for 28 days.” > Great news: @MoHFW_INDIA & @WHOSEARO initiated a systematic engagement of @WHO’s national polio surveillance network, and other field staff, for 🇮🇳’s #COVID19 response, tapping into the best practices & resources that helped 🇮🇳 win its war against polio.\\n\\n[Tedros Adhanom Ghebreyesus](https://twitter.com/DrTedros/status/1250479614331363335) [Under India\\'s caste system, Dalits are considered untouchable. The coronavirus is intensifying that slur] (https://edition.cnn.com/2020/04/15/asia/india-coronavirus-lower-castes-hnk-intl/index.html) R0 of Covid-19 roughly around 2 -2.5, more than common flu, less than SARS.\\n\\nhttps://www.businessinsider.com/coronavirus-contagious-r-naught-average-patient-spread-2020-3  [Mapped: The spread of coronavirus across India’s districts](https://www.livemint.com/news/india/mapped-the-spread-of-coronavirus-across-india-s-districts-11587179250870.html) In the likely scenario that colleges are unable to open anytime soon, do universities pass all their students? I know a couple of private colleges like NM and Symbiosis have cancelled exams and passed everyone on the basis of their internal grades. \\n\\nIs it possible for a big, public university like Mumbai University to do the same? Most of these exams are subjective, and cannot be conducted online as such. Decent day for Karnataka. Did MP not test anyone today? How many tests were done in Madhya Pradesh today? https://m.timesofindia.com/entertainment/hindi/bollywood/news/watch-kangana-ranaut-addresses-sister-rangoli-chandels-twitter-suspension-suggest-we-should-demolish-such-social-media-platforms-and-start-our-platforms/amp_articleshow/75218928.cms\\n\\nKangana ranaut comes to the defence of her sister who called for lining up and killing Muslims and secular media.\\n\\nSays Twitter should be banned and India should start its own thing.\\n\\nBJP is using babita phogat and kangana ranaut to justify genocidal hatred against Muslims. Now open calls for killing of Muslims are defended by big movie stars.\\n\\nUtterly disgusting for calling for genocide of Muslims is mainstream in India. MP with more cases today than MAH for now The PM would do well to remember - \"The virus sets the timelines\" how are people in Telanagana going to eat? Food deliveries stopped and bachelors are apparently in trouble. How is the government planning to feed them? not everyone can cook or have induction or kettle. [Currently \\'no evidence\\' that COVID-19 survivors have immunity, WHO warns](https://news.sky.com/story/coronavirus-no-evidence-that-covid-19-survivors-have-immunity-who-warns-11975011)\\n\\n>Speaking at a news conference in Geneva, Dr Maria van Kerkhove said: \"There are a lot of countries that are suggesting using rapid diagnostic serological tests to be able to capture what they think will be a measure of immunity.\\n\\n>\"Right now, we have no evidence that the use of a serological test can show that an individual has immunity or is protected from reinfection.\"\\n\\n>She added: \"These antibody tests will be able to measure that level of seroprevalence - that level of antibodies - but that does not mean that somebody with antibodies means that they are immune.\" in another news, govts blatant muslimphobia continues with a modi bot arguing with wikipedia founder jimmy wales for not allowing them to post their bigoted propaganda \\n https://twitter.com/nickiminachhh/status/1250784369267990529?s=19\\n\\ngo corona, go get these mofos Why are colleges asking students and staff to download Aarogya Setu app? Wtf!\\n\\nEdit - [This college](https://imgur.com/a/T9YnVIt) is asking students to download the app and send a confirmation through Google forms. How are new positive cases coming up all over the country? It\\'s been more than 21 days since the lockdown and the incubation period is 14 days (expect rare outliers). I understand essential services are running and it\\'s not 100% lockdown, but does this mean it\\'s because of these essential services that we see new cases? Friends of a couple of govt. employees told me that the lockdown in red zones will be extended upto 25th of May. Any truth to this potentially sad news? [Bengaluru: Chief minister Yediyurappa inaugurates coronavirus moble testing kiosk](https://www.daijiworld.com/news/newsDisplay.aspx?newsID=697350) My professor is saying that she believes exams will be held if the situation stabilizes by May 3rd.What do you think?\\nFyi:I\\'m in first year pg \\nAnd I have only heard that only final year pg and ug will have to give written exams What\\'s the deal with Karnataka? Seems surprisingly low. Are they not testing enough or have they just got lucky with the lack of super spreaders like TJ? https://twitter.com/mybmc/status/1251880960062189568?s=19\\n\\nThis report of BMC says 135 positive cases, but at the end of report they mention 154 positive cases from various labs and they add it in progressive.\\n\\nSo does it mean that they aren\\'t adding private lab reports to daily numbers?  [Mangaluru: Another man tests positive for coronavirus, 13th for Dakshina Kannada](https://www.daijiworld.com/news/newsDisplay.aspx?newsID=697714)  \\n\\n A 39-year-old man from Uppinangady who had come from Delhi, had been **quarantined for 14 days on April 1**. His **first test** conducted **on April 2 proved to be negative**. During the tests on **second sample sent on April 13**, the result showed that he has **coronavirus** infection. He happens to be the 13th patient of the district. Nine have already been cured and sent home. \\n\\n**This guy was in quarantine for more than 4 weeks and showing symptoms now** People, I have a question, have cases genuinely started reducing in Maharashtra, or is this drop a result of the new testing strategy ? ( The strategy being that the high risk patients will be tested only between the 5th and 14 th day ) With the number of people we are finding corona positive, can I say that community spread is going on for a while? What are things or rules that will change after april 20 ? how many sector and region will open ? what is chances of Mumbai and Pune , will there remain in strict lockdown ? Can someone tell me what\\'s happening in Rajasthan? has anyones society or rwa made the govt app mandatory? [deleted] __As Delhi & Punjab Choose Complete Lockdown Amid Exemptions, Here\\'s What\\'s Allowed and Prohibited from Tomorrow - News18__\\n\\n> Several guidelines were issued by the government for enforcing the second phase of the coronavirus lockdown, as part of its plan to restart the economy in a staggered manner from April 20. While Kerala looks forward to lift certain restrictions, Delhi and Punjab have announced that the restrictions will remain in place despite the relaxations and exemptions that are set to come into effect from Monday. \\n\\n> Delhi Chief Minister Arvind Kejriwal announced that the national capital will continue to remain under lockdown as it accounted for 12% of the total cases in the country. The government will, however, assess the situation again after one week. \\n\\n[Source](https://www.news18.com/news/india/as-delhi-punjab-choose-complete-lockdown-amid-exemptions-heres-whats-allowed-and-prohibited-from-tomorrow-2584217.html) Any of the states remaining to declare their results? Or was Delhi last? [COVID-19: Delhi govt to setup paid-quarantine facilities in 3 hotels\\n](https://www.deccanherald.com/national/north-and-central/covid-19-delhi-govt-to-setup-paid-quarantine-facilities-in-3-hotels-825908.html)\\n\\n> People using quarantine facilities at the Welcome Hotel, the Vivanta by Taj and the Piccadily Hotel will have to pay Rs 3,100, excluding the Goods and Services Tax, per day, according to the official.\\n\\nFor those who complain that the govt quarantine centres are utterly shit? why is it taking so long to announce a financial package ? other countries were quick to announce one and even with a full-lockdown we have not heard anything. without that info how are businesses planning for the next quarter or two ? Well, look at odisha they managed it very well they have the lowest positive rate and have recorded no positive cases in last two days, and their testing rate is far greater than WB what a good news. \\n\\n[odisha successfully flattening the curve??](https://www.livemint.com/news/india/coronavirus-is-the-covid-19-curve-flattening-in-odisha-11587145630291.html) ICMR update at 9pm says there are 16,635 positive cases. \\n\\nIt\\'s almost 11pm and covid19india.org shows 15,696 cases. \\n\\nHow come? >In Kuwait .. the #Indian community tops Corona statistics .. and is treated in the finest hospital in Kuwait ..\\n\\n>In Kuwait, there is no difference between the religions and nationalities of the sick .. This is justice\\n\\\\#Rss_terrorists \\n\\nhttps://twitter.com/alnassar_kw/status/1251572957979258880?s=19\\n\\nnow even the arab world is taunting India on tolerance thanks to sanghis I hope they push ahead with reforming the labour laws. The ordinance is a welcome move.\\n\\nIf they can\\'t pass these laws despite having full majority + once in a century crisis, they should fucking die. But these retards are always involved in passing stupid laws like CAA/NRC. For once do what Manmohan had the balls to do in 1991. it\\'s so bad sharjah princess has to tweet about the increase in sanghi fuckers indulging in blatant islamophobia and bigotry against indian muslims sitting and earning in UAE https://twitter.com/LadyVelvet_HFQ/status/1250502022228566016?s=19\\n\\nthe world is watching our commumal circus in the middle of a deadly pandemic, all our reputation in shambles thanks to Modi &co [+797] as per covid19tracker\\n\\n31,083 samples tested today, 1443 positive. Big difference between both figures? Kodagu man who recovered from COVID-19, tests positive again. \\n\\n\\n> 35-year-old man from Kodagu, who was discharged from the hospital after recovering from Covid-19, developed symptoms of coronavirus on Wednesday. Kodagu DC Annies Kanmani Joy confirmed that the patient has been admitted in the hospital. “We have sent the samples for testing to Mysuru. There is no need to worry as he was in home quarantine,” she said.\\n\\n> The Kodagu resident, who had returned from Dubai, was tested positive on March 18. He had landed at Kempegowda International Airport on March 15 but cleared the screening test. He took a bus to the coffee district. He developed symptoms only on March 17. The patient had come in contact with nearly 200 people at his hometown.\\n\\n\\n\\nhttps://bangaloremirror.indiatimes.com/bangalore/others/kodagu-man-who-recovered-from-covid-19-tests-positive-again/amp_articleshow/75171232.cms https://youtu.be/JIhNKZOHJ74\\nIs India under reporting the cases - BBC\\nAs per this video they are not even testing ppl.who died with similarly covid like symptoms >My doctor friend was afraid to treat Muslims bcz propaganda news channels, politicians, celebrities has created an environment of hate. No matter how much we deny this fact but their propaganda is very much successful & rotting the minds of people.Where we are heading? #Shameful \\n\\nhttps://twitter.com/DrHarjitBhatti/status/1251383701193150464?s=19 Gujarat suddenly exploding the last week or so. \\n\\nWhat could have possibly happened there now?? I wonder \\n\\n\\nHmm could this possibly be attributed to this event that took place feb end ( just two weeks before the Much maligned TJ event ) , which attracted more than 200,000 ppl If not more. \\n\\nCould it possibly be that, after all it did involve one very infamous foreigners ego being stroked  with zero Social distancing, could it possibly be that? \\n\\nNo way is the media gonna make a fuss about that now are they ? \\n\\nSuch hypocrisy.\\n\\nNamaste trump, my ass, all that time the govt could have spent making sure we are well prepared I.e procured ppes or better, shut down the airports or atleast enforced strict quarantine, was instead wasted on appeasing that orange buffoons ego, the CAA debacle and worse, toppling an elected MP government. \\n\\nBut ofcourse the TJ Muslims are to be blamed for everything. With only one active COVID-19 case, Goa may become first state to enter green zone by 20 April\\n\\nhttps://www.firstpost.com/health/coronavirus-outbreak-with-only-one-active-covid-19-case-goa-may-become-first-state-to-enter-green-zone-by-20-april-8266721.html https://finance.yahoo.com/amphtml/news/least-75-000-coronavirus-infections-041207265.html?guccounter=1\\n\\nAny thoughts on this? It said min 75k cases and 750 deaths by April 17 105 in Tamil Nadu :( I thought it is flatting in Tamil Nadu Do we have any idea when the antibody tests will start. Air India opens bookings for select domestic flights May 4th 2020 onwards and International Flights June 1st, 2020 onwards \\n\\n https://twitter.com/ANI/status/1251462749303029760?s=09 Why reopening the economy after pandemic will be more about ethics than science.\\nThe choice of when to reopen is not a scientific question, but a moral one informed by science: how much coronavirus risk are we willing to accept?\\nhttps://theprint.in/opinion/why-reopening-the-economy-after-pandemic-will-be-more-about-ethics-than-science/402082/ The new search bar on covid19india.org is nifty. The rest of the updates, not so much. Did the government provide the list of cities that are going to open on 20th? Or we are going to know that tomorrow morning 10 am? Coronavirus Testing Falls Woefully Short as Trump Seeks to Reopen U.S. https://nyti.ms/3eq1HlJ\\n\\nNYT shitting on Trump for testing less lol. They\\'ve done almost 3.5 million tests compared to India\\'s 250000. Only if Indian media had any spine Religious gatherings in India 9-19march\\n\\nhttps://twitter.com/atti_cus/status/1251058065333420032/photo/1 Just 2 cases in Kerala today but what\\'s shocking is that in one of the cases the person had come from Dubai but it\\'s been 3 weeks and more since the lockdown. So, does that mean the 14-day isolation doesn\\'t cut it? [https://www.rt.com/news/486194-study-coronavirus-southern-china/](https://www.rt.com/news/486194-study-coronavirus-southern-china/)\\n\\n>Neither ‘lab’ nor ‘wet market’? Covid-19 outbreak **started months EARLIER** and NOT in Wuhan, ongoing Cambridge study indicates.\\n\\n[https://www.pnas.org/content/early/2020/04/07/2004999117](https://www.pnas.org/content/early/2020/04/07/2004999117) https://icmr.nic.in/sites/default/files/whats_new/ICMR_testing_update_18April_9PM_IST.pdf : 16365 (+2154).\\n\\n\\nhttps://www.covid19india.org/ :15,721 (+1371).\\n\\n\\nIs this the first time the icmr is reporting higher number of total cases than this tracker? The increase in number of cases yesterday is also much higher, but on its own, that could just be reporting delay. Together, it makes me wonder what is going on. 12 new cases in Noida. City and its administration is really fucked up. [Doctors Face Troubling Question: Are They Treating Coronavirus Correctly?](https://www.youtube.com/watch?time_continue=51&v=bp5RMutCNoI&feature=emb_logo) From NYT When will the inter-city and inter-state travel be allowed according to you fellas?\\nAnd do you think it will be safe to do it without vaccine or a cure? [Migrant workers in India may shun cities after coronavirus lockdown] (https://www.deccanherald.com/national/migrant-workers-in-india-may-shun-cities-after-coronavirus-lockdown-826070.html) No cases in Delhi today? As of yesterday,\\n\\nTotal cases: 16,365 (+2192) | Total deaths: 518 (+39)\\n\\nAcc to Dainik Bhaskar.\\n\\n \\nwhile covid19india.org is showing \\n\\nTotal : 15723(+1371) | Deaths: 521(+35) wtf is the logic behind banning non essentials? you can\\'t expect people to be in lockdown forever without buying anything other than grass Is the Mah govt hiding real numbers? I\\'m hoping to see someone knows what this is all about?\\n\\n[18th April, Covid 19 cases in Mumbai](https://iili.io/JIxkpS.jpg)\\n\\nEdit: Context\\nhttps://twitter.com/KiritSomaiya/status/1251558592928342017?s=20 Having monitored the number of cases, tests, and deaths from Covid-19 in India, there is still something I don\\'t understand, and I can\\'t seem to reconcile this data.\\n\\nWhy are deaths so low? And this is assuming the fact that we are severely undertesting (a few days ago it was ~120 tests per million). However if we are undertesting, and therefore cases not being diagnosed, then if anything deaths should be higher? I understand some of the deaths may be misattributed to non Covid-reasons but even then the actual numbers shouldn\\'t be this low.\\n\\nDont get me wrong- I’m very happy the number is so low but I just can’t see how ##### *Covid effect: ICC member boards running \\'serious risk\\' of financial bankruptcy*\\n\\n\\nShould there be no cricket played between now and the end of the year, it will lead certain cricket boards – read: Sri Lanka, West Indies, Bangladesh, Pakistan, South Africa, among others – to sizeable, inevitable bankruptcy\\n\\nhttps://timesofindia.indiatimes.com/sports/cricket/news/covid-effect-icc-member-boards-running-serious-risk-of-financial-bankruptcy/articleshow/75207196.cms Bhai naai ki dukaan khulengi kya? Where can i find information on the numbers of tests being conducted by us on a daily basis ? Finally new cases stabilise ho rahe hai kya? https://theprint.in/national-interest/covid-hasnt-gone-viral-in-india-yet-but-some-in-the-world-at-home-cant-accept-the-truth/404178/?amp&__twitter_impression=true\\n\\n\\nLol even Shekhar Gupta is pissed at the western media narrative of \"Why aren\\'t you Indians dying yet?\"\\n\\nInteresting information about the stated prevalence of HIV in India being falsified by international media to the tune of 128% Since the lockdown, I came to know at least 10 people working in my father\\'s office and to some extent their character because of all this work from home stuff.. Only 400 new cases today. Seems like the curve is flattening. >Railway cancelled 39 lakh tickets. \\n\\n>Example of 1 ticket\\n\\n>Debit amount : 523\\n>Refund amount : 505\\n\\n>Deduction amount : 18 rs\\n\\n>3900000 x 18 = 70,200,000 rs. 🤦\\u200d♀️\\n\\n>Is this not a scam ?\\n\\nhttps://twitter.com/shenaz_irani/status/1250448216371257345?s=19\\n\\ninaugurating the thread with yet another tale of an asshole govt that scams its people during a deadly pandemic >Spain’s government says it will pay tens of thousands of the country’s lowest-income households a “minimum living wage” starting in May.\\n\\n\\nhttps://twitter.com/BloombergQuint/status/1251076685039951873?s=19\\n\\nthis could be us but we elected Modi bose dk [deleted] [Lockdown In Telangana Till May 7, Food Delivery Apps Not Allowed: KCR](https://www.ndtv.com/telangana-news/coronavirus-k-chandrashekar-rao-says-lockdown-in-telangana-till-may-7-food-delivery-apps-not-allowed-2214612) ek ghanta phele dekha tha toh 500 tha kuch, abhi bc 1010 h When are barber shops opening? I need a haircut asap What is SARI ? What is difference between sari and covid19 ? Is it human to human transmission ? >COVID19 does not see race, religion, colour, caste, creed, language or borders before striking. Our response and conduct thereafter should attach primacy to unity and brotherhood. We are in this together: Prime Minister Narendra Modi \\n\\nhttps://twitter.com/ANI/status/1251850634665623552?s=19\\n\\nlooks like dumbass got scared of arabs Thing is we are being lied by our government, which is really sad, they are just too coward to admit it that lockdown can never eradicate the virus from the country, can someone tell me exact scenario of West Bengal , I\\'ve heard lots of people are admitted in the private hospital but government is telling the numbers? [removed] If only we could track the road accident deaths, the infant deaths out of negligence, people dying of hunger after this pandemic. A death is a death. just imagine if corona spreads in india like US or Italy, we should prepare ourselves for the inevitable. Does anyone have a good source on why some people are asymptomatic? its been 29 days since the lockdown of flights.       \\nOur cases are still rising everyday.... [https://www.nature.com/articles/s41587-020-0513-4](https://www.nature.com/articles/s41587-020-0513-4) Even if the govt restarts the lockdown for work and other things, when do you folks see the education sector restarting? Particularly the all India exams like JEE, NEET , CA exams etc? \\n\\nConsidering the fact that unemployment is going to be astronomical in India post Covid-19, does it make sense to drop a year across the education sector?\\n\\nEdit : If you ask me NEET/medical education should be carried on regardless because we need these people in the coming days 1000+ new cases today and its not even 9 pm. [WHO official warns there could be no ‘effective’ vaccine](https://www.express.co.uk/news/uk/1270876/UK-Coronavirus-vaccine-WHO-NHS-doctors-nurses-disease-Covid-19) [Priest kills self after learning about lockdown extension]\\n(https://www.hindustantimes.com/india-news/priest-kills-self-after-learning-about-lockdown-extension/story-QMOzSoH3wQD4Q4qlSm26mL.html) [Coronavirus: Kerala\\'s double standards in accounting COVID-19 death]\\n(https://www.deccanherald.com/national/south/coronavirus-keralas-double-standards-in-accounting-covid-19-death-826530.html) Some positive news regarding the infection rate\\n\\n[https://twitter.com/Suparna\\\\_Singh/status/1251174410569969671](https://twitter.com/Suparna_Singh/status/1251174410569969671) [deleted] Fuck youuuuu Maharashtra, we were taking a downpath but you fucked up, I\\'ve seen mumbai during lockdown there is still a quite a lot of activity in spite of lockdown [removed] [deleted] [removed] RCB would be happy if IPL happens abroad, says Simon Katich\\n\\nhttps://twitter.com/ani_digital/status/1250995984642895872?s=09 Goa has 0 active cases even though so many foreigners live there; any correlation to marijuana smoking? Marijuana has been used as a herbal remedy for some ailments in the past, though. They said, smokers were more at risk of contracting the covid-19, but that doesn\\'t seem to be the case.',\n",
       "              \" Found chicken nuggets today in the local grocery store. I eat good today. Let's see what tomorrow brings. Working from home since past one month. For someone like me who stays 300 kms away from home in an another city for work, staying home for so long is true happiness. Plus I can take care of my parents since I am here.\",\n",
       "              ' \"Many ex-govt leaders beheaded\" sweet contrast of development and destruction. Ka Ka Kapustin...Lover of the Russian Queen... Built by ISRO, the name Aryabhata was Indira Gandhi\\'s tribute to the first of the major Indian mathematician-astronomers from the classical age. IIRC wasn\\'t this mostly a Soviet effort with extensive hand holding for our scientific and engineering teams? Prof. U.R. Rao was a visionary. Just like Dr. Vikram A. Sarabhai. At PRL, Ahmedabad, the seeds of ISRO were sown by Sarabhai and U.R. Rao continued it till his death. Offtopic, why did you use hashtag in the title? It is indeed a landmark achievement from 1 to 104 from a site in USSR to Shriharikota in Andhra Pradesh India. We have come a long way. \\n\\nI hope we go forward to make use technological advances in space to make human lives in India easier. Laal salaam .... At that time SUPARCO was at an advantage and with better funding than our ISRO #nice That\\'s civ shit Why was it launched from a soviet launch site instead of in India? Inb4 Chandrayaan 😳🤡 [Here\\'s a video on the history of ISRO.](https://youtu.be/M3yUWXM7VDQ) If BJP would\\'ve been the government at that time, they would\\'ve probbaly spent the money to make some grand statue instead. Man, fuck Brezhnev revisionist scum. All my comrades are Stalinists Thank you, Modiji!!! (Modi hein to mumkin hein)',\n",
       "              ' So, can I guess that you\\'re as bald as Shakaal? Hey guys remember trains? The hairstyle is known as poha mein laddu. It is better to shave the head completely and have the bald look.. OP Johnny bhaiya ho kaa? I like the fact that this post has a \"Photography\" flare sneek 10000 I can smell this pic. Pretty cool huh! Experts can say the Norwood Scale Numbers just by one glance. I think I lost few hair looking at this picture. Ohh that\\'s a rare click. **Nostalgia** After lockdown people who tried to cut their own hair. Interested in seeing OPs head This is really disrespectful. This pic can be used as a advt for a hair oil! This Photo is so close, I can smell it you shoudln\\'t have shared this you have me in tears at the age of 24 Tabla baja dunga last wale bande pe. Chapti toh banti hai. Bala movie... part 2.',\n",
       "              \" >Tejasvi Surya deletes tweet\\n\\nAs usual Bhakt paying tribute to Savarkar. Lol. Do notice one thing, chaddis might shit talk about subcontinent muslims all day long but when it's about those fair skinned rich arab muslims it's time to pull your pants down, spread the ass cheeks and wait for the rich sheikh to oil his dick to ram chaddis. It's hilarious. \\n\\nThe inferiority complex is real. Schrodinger's ego. Religious war during a pandemic, what a great idea. What an assclown 2015 guys chill.\\n\\nThe dude graduated manifold in his bigotry in the last 5yrs. This guy is another 💩 turd - th constipated one. This tweet already did a round during his election time. He didn’t delete it then though. Now he wants to delete it as it’s gone viral once again but just more bigger this time. Such disgusting people......\\nThey had to be in our country....... Kunal's gonna have a field trip on this one! Hand him a gun. Might as well shoot himself in the face. Savarkar jaag gaya. 😂 Mia Khalifa is an arab right ?\\n\\n:) Assemble! To Arabiaaaaa!!!!!!! This will be fun! There is now an official tweet from UAE to PMO asking for action against this cunt! Surya nahi Chuthiya hain yeh!\",\n",
       "              ' Lock down may kill much more people than corona. 5km is literally a nothing distance. Took me 21 minutes and 8 seconds to run it around a 400m loop.',\n",
       "              \" So there could be chances that you get it and completely recover without showing any symptoms? How did they come about testing these people. I thought only people with severe symptoms were being tested. This is exactly why we need mass scale testing instead of just testing people with symptoms. Someone known to bro died coz Gandhi hospital refused to test them for corona. Man was a 50 year old and started developing symptoms after taking his sister to a hospital for consultation. They went to Gandhi hospital and after checkup, they determined that no test was required and sent them away. A week later, symptoms become worse and he tested positive in Apollo and passed away. How can our medical system be so incompetent. The expectation is that they would begin to show symptoms after 14 days, right? 🤔 Believe it or not there is actually a silver lining to this news. This means that a lot of people have it and live through it without a lot of issues. Meaning the death rate and potency of the virus is substantially less that what is reported since number of cases are a lot more than deaths/hospitalized. Statistically speaking, you have a much higher chance of survival if you catch the virus. Whoa what a total surprise didn't expect that I have a question. What's the endgame here? There's no vaccine coming anytime soon. Would the virus die off if lockdown is extended for the month of May? Why can't scientists replicate whatever these folks had and put it in everybody?? Really pointy haired boss like comment I know but extreme times! [deleted]\",\n",
       "              \" What goes around...comes around The sanghis who wouldn't buy vegetables from muslims in india will gladly work for one in gulf countries. I guess $ triumphs over bigotry. You need to be stupid to hate **all** people of a religion.\\n\\nYou need to be special type of stupid to voice out your hatred in a land full of people you hate. Well, that's a hot potato. More interesting would be if these hindutvavadis are given a choice - enroll in a deradicalization programme similar to the one they run for al-qaida prisoners, or get out. Both, the number who agree to enter as well as outcomes of the programme would be interesting. Can possibly provide ideas for India's own deradicalization in future after the rightwing has run it into the ground and survivors are left with the task of rebuilding. [removed] Saudis should fine the fuck out these bhakts, that'll get the bhakts to go full savarkar. Quite rich coming from a country whose second biggest export is terrorism and has recently bone sawed a journalist. Sanghese and Islamists are made for each other. Let them fight. Please keep them. We can even send you a few crore more. Yes, please do it. Fuck these Hindutva bigots. Let them come and join Gaushalas. Send them to Pakistan or something. I'd rather not have any more over here. The next OIC meet should be interesting. Sanghis have been toxic for years now, why the sudden spike in reactions from middle eastern authorities? I don't remember similar reactions even during the peak of nrc/caa protests and crackdowns. [removed]\",\n",
       "              \" This chomu must know, that ration is provided from tax payer's money not from the bank account of any political party. Could have tried to do the right thing here instead of being a dick! Yep hate is part of there core too. They thrive by dividing people on there stupid ideologies This isn't new. Karnataka's Kumaraswamy and Bongi Didi also did the same in the past. No political party cares for general public here. Hopefully some of the fanatics on both sides wake up a little. Corona didn't change one thing - Politics ! This is a reminder of the fact that political ideologies do nothing to the inherent douchebaggery. These people spoil a otherwise non partisan opposition..\\n\\nWhy?..why? Watch the video/report fully. After making that comment, he said he was joking. \\n\\nYes, he was being a dick but saying he took away the ration is fake news.\",\n",
       "              ' I’ve seen last night. The people who complain about the plot, most lives are boring af, aren’t they?\\n\\nBut man the execution is so close to real life. Must give credits for that. Can i watch this with my family? I loved it and agree with OP..you can certainly watch it with ur family TVF series have good settings but piss poor plot narratives. I absolutely loved every character in the series. All of them are like one big family. Such a feel good series it is. Enjoyed the series, waiting for second season Subtle,sweet,real and memorable. Peepli live was also quite close in portraying rural India  Raghubir Yadav is an epic actor in Panchayat, from Mungerilal Ke Haseen Sapne! I liked how it wasn’t interested in doing either poverty porn of romanticizing it. It just had a balance. Another thing of note, and this doesn’t have to do with the rural setting, is it’s portrayal of failure. I’ve been through a similar phase where my colleagues were successful and I wasn’t and the loneliness and rejection was brutal. Authentic? Have you ever been to any village in india?\\n\\nWatch laakhon mein ek s2 for a more authentic rural India I loved it and agree with OP..you can certainly watch it with ur family']})"
      ]
     },
     "execution_count": 9,
     "metadata": {},
     "output_type": "execute_result"
    }
   ],
   "source": [
    "india_posts = defaultdict(list)\n",
    "for post in hot_posts:\n",
    "    india_posts['title'].append(post.title)\n",
    "    india_posts['score'].append(post.score)\n",
    "    india_posts['url'].append(post.url)\n",
    "    india_posts['num_comments'].append(post.num_comments)\n",
    "    india_posts['text'].append(post.selftext)\n",
    "    india_posts['created'].append(post.created)\n",
    "    #  a limit of None means that all MoreComments objects will be replaced until there are none left\n",
    "    post.comments.replace_more(limit=None)\n",
    "    all_comments = ''\n",
    "    for comment in post.comments:\n",
    "        all_comments = all_comments + ' ' + comment.body\n",
    "    \n",
    "    india_posts['comments'].append(all_comments)\n",
    "\n",
    "india_posts"
   ]
  },
  {
   "cell_type": "code",
   "execution_count": 10,
   "metadata": {},
   "outputs": [],
   "source": [
    "india_postsdf = pd.DataFrame(india_posts)"
   ]
  },
  {
   "cell_type": "code",
   "execution_count": 11,
   "metadata": {},
   "outputs": [],
   "source": [
    "_timestamp = india_postsdf[\"created\"].apply(get_date)\n",
    "india_postsdf = india_postsdf.assign(timestamp = _timestamp)\n",
    "del india_postsdf['created']"
   ]
  },
  {
   "cell_type": "code",
   "execution_count": 25,
   "metadata": {},
   "outputs": [],
   "source": [
    "# preprocess the title, comments and text\n",
    "from nltk.corpus import stopwords\n",
    "from nltk.tokenize import word_tokenize\n",
    "\n",
    "def preprocess(text):\n",
    "\n",
    "    stop_words = set(stopwords.words('english'))\n",
    "    word_tokens = word_tokenize(text)\n",
    "    filtered_sentence = [w for w in word_tokens if not w in stop_words]\n",
    "    filtered_sentence = []\n",
    "    for w in word_tokens:\n",
    "        if w not in stop_words:\n",
    "            if w.isalnum():\n",
    "                w = w.lower()\n",
    "                filtered_sentence.append(w)\n",
    "    return(filtered_sentence)"
   ]
  },
  {
   "cell_type": "code",
   "execution_count": 28,
   "metadata": {},
   "outputs": [],
   "source": [
    "india_postsdf['title'] = india_postsdf['title'].apply(preprocess)"
   ]
  },
  {
   "cell_type": "code",
   "execution_count": 26,
   "metadata": {},
   "outputs": [],
   "source": [
    "india_postsdf['comments'] = india_postsdf['comments'].apply(preprocess)"
   ]
  },
  {
   "cell_type": "code",
   "execution_count": 30,
   "metadata": {},
   "outputs": [],
   "source": [
    "india_postsdf['text'] = india_postsdf['text'].apply(preprocess)"
   ]
  },
  {
   "cell_type": "code",
   "execution_count": 32,
   "metadata": {},
   "outputs": [],
   "source": [
    "india_postsdf.to_csv('india_posts.csv', index=False)"
   ]
  },
  {
   "cell_type": "code",
   "execution_count": 33,
   "metadata": {},
   "outputs": [
    {
     "data": {
      "text/html": [
       "<div>\n",
       "<style scoped>\n",
       "    .dataframe tbody tr th:only-of-type {\n",
       "        vertical-align: middle;\n",
       "    }\n",
       "\n",
       "    .dataframe tbody tr th {\n",
       "        vertical-align: top;\n",
       "    }\n",
       "\n",
       "    .dataframe thead th {\n",
       "        text-align: right;\n",
       "    }\n",
       "</style>\n",
       "<table border=\"1\" class=\"dataframe\">\n",
       "  <thead>\n",
       "    <tr style=\"text-align: right;\">\n",
       "      <th></th>\n",
       "      <th>title</th>\n",
       "      <th>score</th>\n",
       "      <th>url</th>\n",
       "      <th>num_comments</th>\n",
       "      <th>text</th>\n",
       "      <th>comments</th>\n",
       "      <th>timestamp</th>\n",
       "    </tr>\n",
       "  </thead>\n",
       "  <tbody>\n",
       "    <tr>\n",
       "      <th>0</th>\n",
       "      <td>['coronavirus', 'megathread', 'news', 'updates...</td>\n",
       "      <td>117</td>\n",
       "      <td>https://www.reddit.com/r/india/comments/g1zi21...</td>\n",
       "      <td>1483</td>\n",
       "      <td>['fundraisers', 'donation', 'links', 'https', ...</td>\n",
       "      <td>['fundraisers', 'donation', 'links', 'https', ...</td>\n",
       "      <td>2020-04-16 09:30:15</td>\n",
       "    </tr>\n",
       "    <tr>\n",
       "      <th>1</th>\n",
       "      <td>['monthly', 'happiness', 'thread', 'randians',...</td>\n",
       "      <td>0</td>\n",
       "      <td>https://www.reddit.com/r/india/comments/g4d2ix...</td>\n",
       "      <td>2</td>\n",
       "      <td>['3', 'links', 'feb', 'mht', 'https', 'jan', '...</td>\n",
       "      <td>['found', 'chicken', 'nuggets', 'today', 'loca...</td>\n",
       "      <td>2020-04-20 08:20:40</td>\n",
       "    </tr>\n",
       "    <tr>\n",
       "      <th>2</th>\n",
       "      <td>['onthisday', '1975', 'history', 'made', 'indi...</td>\n",
       "      <td>2268</td>\n",
       "      <td>https://i.redd.it/8guugveh2qt41.jpg</td>\n",
       "      <td>71</td>\n",
       "      <td>[]</td>\n",
       "      <td>['many', 'leaders', 'beheaded', 'sweet', 'cont...</td>\n",
       "      <td>2020-04-19 20:23:24</td>\n",
       "    </tr>\n",
       "    <tr>\n",
       "      <th>3</th>\n",
       "      <td>['different', 'stages', 'hair', 'loss', 'perfe...</td>\n",
       "      <td>2519</td>\n",
       "      <td>https://i.redd.it/ydbmwsa7jpt41.jpg</td>\n",
       "      <td>78</td>\n",
       "      <td>[]</td>\n",
       "      <td>['so', 'i', 'guess', 'bald', 'shakaal', 'hey',...</td>\n",
       "      <td>2020-04-19 18:36:00</td>\n",
       "    </tr>\n",
       "    <tr>\n",
       "      <th>4</th>\n",
       "      <td>['tejasvi', 'surya', 'deletes', 'tweet', 'arab...</td>\n",
       "      <td>161</td>\n",
       "      <td>https://www.ibtimes.co.in/tejasvi-surya-delete...</td>\n",
       "      <td>21</td>\n",
       "      <td>[]</td>\n",
       "      <td>['tejasvi', 'surya', 'deletes', 'tweet', 'as',...</td>\n",
       "      <td>2020-04-20 04:40:01</td>\n",
       "    </tr>\n",
       "    <tr>\n",
       "      <th>5</th>\n",
       "      <td>['pregnant', 'woman', 'bengaluru', 'walks', '5...</td>\n",
       "      <td>96</td>\n",
       "      <td>https://www.thenewsminute.com/article/pregnant...</td>\n",
       "      <td>13</td>\n",
       "      <td>[]</td>\n",
       "      <td>['lock', 'may', 'kill', 'much', 'people', 'cor...</td>\n",
       "      <td>2020-04-20 06:38:42</td>\n",
       "    </tr>\n",
       "    <tr>\n",
       "      <th>6</th>\n",
       "      <td>['all', '186', 'positive', 'cases', 'reported'...</td>\n",
       "      <td>599</td>\n",
       "      <td>https://twitter.com/ANI/status/125176181030855...</td>\n",
       "      <td>94</td>\n",
       "      <td>[]</td>\n",
       "      <td>['so', 'could', 'chances', 'get', 'completely'...</td>\n",
       "      <td>2020-04-19 20:13:23</td>\n",
       "    </tr>\n",
       "    <tr>\n",
       "      <th>7</th>\n",
       "      <td>['saudi', 'scholar', 'calls', 'expulsion', 'hi...</td>\n",
       "      <td>244</td>\n",
       "      <td>https://www.middleeastmonitor.com/20200417-sau...</td>\n",
       "      <td>61</td>\n",
       "      <td>[]</td>\n",
       "      <td>['what', 'goes', 'around', 'comes', 'around', ...</td>\n",
       "      <td>2020-04-20 00:46:55</td>\n",
       "    </tr>\n",
       "    <tr>\n",
       "      <th>8</th>\n",
       "      <td>['rajasthan', 'congress', 'mla', 'took', 'back...</td>\n",
       "      <td>327</td>\n",
       "      <td>https://twitter.com/IndiaToday/status/12517392...</td>\n",
       "      <td>17</td>\n",
       "      <td>[]</td>\n",
       "      <td>['this', 'chomu', 'must', 'know', 'ration', 'p...</td>\n",
       "      <td>2020-04-19 21:20:41</td>\n",
       "    </tr>\n",
       "    <tr>\n",
       "      <th>9</th>\n",
       "      <td>['tvf', 'panchayat', 'authentic', 'rural', 'in...</td>\n",
       "      <td>103</td>\n",
       "      <td>https://www.reddit.com/r/india/comments/g48akq...</td>\n",
       "      <td>27</td>\n",
       "      <td>['i', 'wo', 'deny', 'i', 'seen', 'many', 'rura...</td>\n",
       "      <td>['i', 'seen', 'last', 'night', 'the', 'people'...</td>\n",
       "      <td>2020-04-20 03:41:44</td>\n",
       "    </tr>\n",
       "  </tbody>\n",
       "</table>\n",
       "</div>"
      ],
      "text/plain": [
       "                                               title  score  \\\n",
       "0  ['coronavirus', 'megathread', 'news', 'updates...    117   \n",
       "1  ['monthly', 'happiness', 'thread', 'randians',...      0   \n",
       "2  ['onthisday', '1975', 'history', 'made', 'indi...   2268   \n",
       "3  ['different', 'stages', 'hair', 'loss', 'perfe...   2519   \n",
       "4  ['tejasvi', 'surya', 'deletes', 'tweet', 'arab...    161   \n",
       "5  ['pregnant', 'woman', 'bengaluru', 'walks', '5...     96   \n",
       "6  ['all', '186', 'positive', 'cases', 'reported'...    599   \n",
       "7  ['saudi', 'scholar', 'calls', 'expulsion', 'hi...    244   \n",
       "8  ['rajasthan', 'congress', 'mla', 'took', 'back...    327   \n",
       "9  ['tvf', 'panchayat', 'authentic', 'rural', 'in...    103   \n",
       "\n",
       "                                                 url  num_comments  \\\n",
       "0  https://www.reddit.com/r/india/comments/g1zi21...          1483   \n",
       "1  https://www.reddit.com/r/india/comments/g4d2ix...             2   \n",
       "2                https://i.redd.it/8guugveh2qt41.jpg            71   \n",
       "3                https://i.redd.it/ydbmwsa7jpt41.jpg            78   \n",
       "4  https://www.ibtimes.co.in/tejasvi-surya-delete...            21   \n",
       "5  https://www.thenewsminute.com/article/pregnant...            13   \n",
       "6  https://twitter.com/ANI/status/125176181030855...            94   \n",
       "7  https://www.middleeastmonitor.com/20200417-sau...            61   \n",
       "8  https://twitter.com/IndiaToday/status/12517392...            17   \n",
       "9  https://www.reddit.com/r/india/comments/g48akq...            27   \n",
       "\n",
       "                                                text  \\\n",
       "0  ['fundraisers', 'donation', 'links', 'https', ...   \n",
       "1  ['3', 'links', 'feb', 'mht', 'https', 'jan', '...   \n",
       "2                                                 []   \n",
       "3                                                 []   \n",
       "4                                                 []   \n",
       "5                                                 []   \n",
       "6                                                 []   \n",
       "7                                                 []   \n",
       "8                                                 []   \n",
       "9  ['i', 'wo', 'deny', 'i', 'seen', 'many', 'rura...   \n",
       "\n",
       "                                            comments            timestamp  \n",
       "0  ['fundraisers', 'donation', 'links', 'https', ...  2020-04-16 09:30:15  \n",
       "1  ['found', 'chicken', 'nuggets', 'today', 'loca...  2020-04-20 08:20:40  \n",
       "2  ['many', 'leaders', 'beheaded', 'sweet', 'cont...  2020-04-19 20:23:24  \n",
       "3  ['so', 'i', 'guess', 'bald', 'shakaal', 'hey',...  2020-04-19 18:36:00  \n",
       "4  ['tejasvi', 'surya', 'deletes', 'tweet', 'as',...  2020-04-20 04:40:01  \n",
       "5  ['lock', 'may', 'kill', 'much', 'people', 'cor...  2020-04-20 06:38:42  \n",
       "6  ['so', 'could', 'chances', 'get', 'completely'...  2020-04-19 20:13:23  \n",
       "7  ['what', 'goes', 'around', 'comes', 'around', ...  2020-04-20 00:46:55  \n",
       "8  ['this', 'chomu', 'must', 'know', 'ration', 'p...  2020-04-19 21:20:41  \n",
       "9  ['i', 'seen', 'last', 'night', 'the', 'people'...  2020-04-20 03:41:44  "
      ]
     },
     "execution_count": 33,
     "metadata": {},
     "output_type": "execute_result"
    }
   ],
   "source": [
    "india_posts = pd.read_csv('india_posts.csv')\n",
    "india_posts.head(10)"
   ]
  },
  {
   "cell_type": "code",
   "execution_count": 35,
   "metadata": {},
   "outputs": [
    {
     "data": {
      "text/plain": [
       "title           object\n",
       "score            int64\n",
       "url             object\n",
       "num_comments     int64\n",
       "text            object\n",
       "comments        object\n",
       "timestamp       object\n",
       "dtype: object"
      ]
     },
     "execution_count": 35,
     "metadata": {},
     "output_type": "execute_result"
    }
   ],
   "source": [
    "india_posts.dtypes"
   ]
  },
  {
   "cell_type": "code",
   "execution_count": null,
   "metadata": {},
   "outputs": [],
   "source": [
    "# india_posts['title'] = pd.Series(india_posts['title'], dtype='string')\n",
    "# india_posts.loc[:,'title'] = india_posts.loc[:, 'title'].astype(str)\n",
    "# india_posts['title'].apply(str)\n",
    "# india_posts['title'] = india_posts['title'].astype('|S')\n",
    "# india_posts['title']"
   ]
  },
  {
   "cell_type": "code",
   "execution_count": 36,
   "metadata": {},
   "outputs": [],
   "source": [
    "flairs=['Politics','Non-Political','AskIndia', \"[R]eddiquette\", 'Science/Technology', 'Policy/Economy', 'Business/Finance', 'Scheduled', 'Sports', 'Food', 'Photography', 'AMA', ]"
   ]
  },
  {
   "cell_type": "code",
   "execution_count": null,
   "metadata": {},
   "outputs": [],
   "source": [
    "data = defaultdict(list)\n",
    "for flair in flairs:\n",
    "    search_flair = india_subreddit.search(flair, limit=100)\n",
    "    for post in search_flair:\n",
    "        data['flair'].append(flair)\n",
    "        data['title'].append(post.title)\n",
    "        data['score'].append(post.score)\n",
    "        data['url'].append(post.url)\n",
    "        data['num_comments'].append(post.num_comments)\n",
    "        data['text'].append(post.selftext)\n",
    "        data['created'].append(post.created)\n",
    "        post.comments.replace_more(limit=None)\n",
    "        all_comments = ''\n",
    "        for comment in post.comments:\n",
    "            all_comments = all_comments + ' ' + comment.body\n",
    "\n",
    "        data['comments'].append(all_comments)\n",
    "data"
   ]
  },
  {
   "cell_type": "code",
   "execution_count": null,
   "metadata": {},
   "outputs": [],
   "source": [
    "datadf = pd.DataFrame(data)\n",
    "_timestamp = datadf['created'].apply(get_date)\n",
    "datadf = datadf.assign(timestamp = _timestamp)\n",
    "del datadf['created']\n",
    "\n",
    "datadf['title'] = datadf['title'].apply(preprocess)\n",
    "datadf['comments'] = datadf['comments'].apply(preprocess)\n",
    "datadf['text'] = datadf['text'].apply(preprocess)"
   ]
  },
  {
   "cell_type": "code",
   "execution_count": null,
   "metadata": {},
   "outputs": [],
   "source": [
    "datadf.to_csv('dataset.csv', index=False)"
   ]
  },
  {
   "cell_type": "code",
   "execution_count": null,
   "metadata": {},
   "outputs": [],
   "source": [
    "len(datadf['title'])"
   ]
  },
  {
   "cell_type": "code",
   "execution_count": null,
   "metadata": {},
   "outputs": [],
   "source": [
    "datadf = pd.read_csv('dataset.csv')\n",
    "datadf.head(10)"
   ]
  },
  {
   "cell_type": "code",
   "execution_count": null,
   "metadata": {},
   "outputs": [],
   "source": [
    "# Common text classification algorithms : \n",
    "# logistic regression, support vector machine, naive Bayes classifier, decision trees, random forest, K nearest neighbor"
   ]
  }
 ],
 "metadata": {
  "kernelspec": {
   "display_name": "Python 3",
   "language": "python",
   "name": "python3"
  },
  "language_info": {
   "codemirror_mode": {
    "name": "ipython",
    "version": 3
   },
   "file_extension": ".py",
   "mimetype": "text/x-python",
   "name": "python",
   "nbconvert_exporter": "python",
   "pygments_lexer": "ipython3",
   "version": "3.7.3"
  }
 },
 "nbformat": 4,
 "nbformat_minor": 2
}
